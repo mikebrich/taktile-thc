{
 "cells": [
  {
   "cell_type": "markdown",
   "id": "898cdc0c-387a-4b77-aac0-e4b92e28c22a",
   "metadata": {},
   "source": [
    "## Imports"
   ]
  },
  {
   "cell_type": "code",
   "execution_count": 1,
   "id": "9870d282-9284-4d8b-8f6f-d5c1214c4b04",
   "metadata": {},
   "outputs": [],
   "source": [
    "import pandas as pd\n",
    "import numpy as np\n",
    "import json\n",
    "import requests\n",
    "from datetime import datetime"
   ]
  },
  {
   "cell_type": "markdown",
   "id": "1b9addf7-6177-48d4-adb0-2f19660fa260",
   "metadata": {},
   "source": [
    "## Basic Simulated API Response Parsing"
   ]
  },
  {
   "cell_type": "code",
   "execution_count": 2,
   "id": "29b2c9da-c302-4008-9ec8-1b45fc9c6e04",
   "metadata": {},
   "outputs": [],
   "source": [
    "#Example 1- Parsing through dict (object)\n",
    "plaid_response = {\n",
    "    \"income_summary\": {\n",
    "        \"monthly_income\": 5000,\n",
    "        \"income_sources\": [\"payroll\", \"freelance\"]\n",
    "    }\n",
    "}"
   ]
  },
  {
   "cell_type": "code",
   "execution_count": 3,
   "id": "d4c1a01c-c2f8-46f6-8aa3-85ea4858b62b",
   "metadata": {},
   "outputs": [
    {
     "data": {
      "text/plain": [
       "5000"
      ]
     },
     "execution_count": 3,
     "metadata": {},
     "output_type": "execute_result"
    }
   ],
   "source": [
    "income = plaid_response[\"income_summary\"][\"monthly_income\"]\n",
    "income"
   ]
  },
  {
   "cell_type": "code",
   "execution_count": 678,
   "id": "dfab7247-8fa6-4ea6-8288-5d1be8d8143c",
   "metadata": {},
   "outputs": [],
   "source": [
    "#Example 2- Parsing through list\n",
    "credit_report = {\n",
    "    \"accounts\": [\n",
    "        {\"type\": \"credit card\", \"status\": \"open\", \"date_opened\": \"2023-05-01\"},\n",
    "        {\"type\": \"auto loan\", \"status\": \"closed\", \"date_opened\": \"2020-08-10\"}\n",
    "    ]\n",
    "}"
   ]
  },
  {
   "cell_type": "code",
   "execution_count": 680,
   "id": "b71f4a0d-289c-4b3b-9f25-028d790b796a",
   "metadata": {},
   "outputs": [
    {
     "data": {
      "text/plain": [
       "[{'type': 'credit card', 'status': 'open', 'date_opened': '2023-05-01'}]"
      ]
     },
     "execution_count": 680,
     "metadata": {},
     "output_type": "execute_result"
    }
   ],
   "source": [
    "accounts = credit_report[\"accounts\"]\n",
    "\n",
    "open_accounts = []\n",
    "\n",
    "for obj in accounts:\n",
    "    if obj[\"status\"] == \"open\":\n",
    "        open_accounts.append(obj)\n",
    "    \n",
    "open_accounts"
   ]
  },
  {
   "cell_type": "markdown",
   "id": "33b96f94-ec94-4445-86d0-4c920b47e35b",
   "metadata": {},
   "source": [
    "## Sample Question 1"
   ]
  },
  {
   "cell_type": "markdown",
   "id": "9002f217-7054-4832-88f5-1ccaeb79cb06",
   "metadata": {},
   "source": [
    "Prompt:\n",
    "You're given a response from SEON's Fraud API. Implement a function that knocks out any applicant if:\n",
    "\n",
    "Their fraud_score is above 80\n",
    "\n",
    "They are listed on more than 2 watchlists"
   ]
  },
  {
   "cell_type": "code",
   "execution_count": 11,
   "id": "536eefcb-422c-4081-a213-67eddac9a923",
   "metadata": {},
   "outputs": [],
   "source": [
    "kyc_response = {\n",
    "    \"fraud_score\": 75,\n",
    "    \"watchlists\": [\"OFAC\", \"Interpol\", \"EU Sanctions\"]\n",
    "}"
   ]
  },
  {
   "cell_type": "code",
   "execution_count": 13,
   "id": "2ff16ebe-5c3d-4aee-a097-52918c317adf",
   "metadata": {},
   "outputs": [],
   "source": [
    "#Input: kyc_response\n",
    "#Output: Boolean T/F (True = knocked out(\n",
    "def is_knockout_kyc(kyc_response):\n",
    "\n",
    "    # IS fraud_score > 80? \n",
    "    fraud_score = kyc_response[\"fraud_score\"]\n",
    "    if (fraud_score > 80):\n",
    "        return True;\n",
    "\n",
    "    watchlist_array =  kyc_response[\"watchlists\"]\n",
    "    if (len(watchlist_array) > 2):\n",
    "        return True;\n",
    "\n",
    "    "
   ]
  },
  {
   "cell_type": "code",
   "execution_count": 15,
   "id": "1cc82a36-a1d3-4764-b733-9cf28e7baaa3",
   "metadata": {},
   "outputs": [
    {
     "data": {
      "text/plain": [
       "True"
      ]
     },
     "execution_count": 15,
     "metadata": {},
     "output_type": "execute_result"
    }
   ],
   "source": [
    "is_knockout_kyc(kyc_response)"
   ]
  },
  {
   "cell_type": "markdown",
   "id": "1fbf9b90-76f8-4976-82ff-82e3f05469b2",
   "metadata": {},
   "source": [
    "## Sample Question 2"
   ]
  },
  {
   "cell_type": "markdown",
   "id": "1884cd0c-027b-420c-a54b-82e6b977dc6e",
   "metadata": {},
   "source": [
    "Prompt:\n",
    "Given a simplified Experian report, knock out applicants if:\n",
    "\n",
    "Credit score < 600\n",
    "\n",
    "All accounts are younger than 12 months\n",
    "\n",
    "Use today’s date in the code."
   ]
  },
  {
   "cell_type": "code",
   "execution_count": 17,
   "id": "01d59892-bc8e-4530-89f3-faa308d60972",
   "metadata": {},
   "outputs": [],
   "source": [
    "credit_report = {\n",
    "    \"credit_score\": 680,\n",
    "    \"accounts\": [\n",
    "        {\"date_opened\": \"2024-11-01\"},\n",
    "        {\"date_opened\": \"2025-02-15\"}\n",
    "    ]\n",
    "}"
   ]
  },
  {
   "cell_type": "code",
   "execution_count": 302,
   "id": "bfb50a48-be88-4c06-9a00-40a1199b97a0",
   "metadata": {},
   "outputs": [
    {
     "data": {
      "text/plain": [
       "8"
      ]
     },
     "execution_count": 302,
     "metadata": {},
     "output_type": "execute_result"
    }
   ],
   "source": [
    "#Doing it not in a function first.\n",
    "accounts = credit_report[\"accounts\"]\n",
    "\n",
    "format_string = \"%Y-%m-%d\" #for converting datetime object\n",
    "\n",
    "list_of_date_objects = [] \n",
    "\n",
    "for acc in accounts:\n",
    "    \n",
    "    #convert acc[\"date_opened\"] to datetim.date object\n",
    "    datetime_object = datetime.strptime(acc[\"date_opened\"], format_string).date() \n",
    "\n",
    "    list_of_date_objects.append(datetime_object)\n",
    "\n",
    "min_date = min(list_of_date_objects) #min (oldest) date \n",
    "today = date.today() # todays date \n",
    "min_date\n",
    "\n",
    "months_diff = (today.year - min_date.year) * 12 + (today.month - min_date.month)\n",
    "months_diff"
   ]
  },
  {
   "cell_type": "code",
   "execution_count": 304,
   "id": "4e855357-0231-4cef-a438-f20b06f03ee1",
   "metadata": {},
   "outputs": [],
   "source": [
    "#Input: JSON report\n",
    "#Output: Boolean T/F, False = denied \n",
    "def is_credit_history_eligible(credit_report):\n",
    "\n",
    "    #Check if credit_score < 600\n",
    "    credit_score = credit_report[\"credit_score\"]\n",
    "\n",
    "    if(credit_score < 600):\n",
    "        return False\n",
    "\n",
    "    #Determine if all accounts are younger than 12months from today \n",
    "    accounts = credit_report[\"accounts\"]\n",
    "\n",
    "    format_string = \"%Y-%m-%d\" #for converting datetime object\n",
    "\n",
    "    list_of_date_objects = [] \n",
    "\n",
    "    for acc in accounts:\n",
    "    \n",
    "        #convert acc[\"date_opened\"] to datetim.date object\n",
    "        datetime_object = datetime.strptime(acc[\"date_opened\"], format_string).date() \n",
    "\n",
    "        list_of_date_objects.append(datetime_object)\n",
    "\n",
    "    min_date = min(list_of_date_objects) #min (oldest) date \n",
    "    today = date.today() # todays date \n",
    "\n",
    "    months_diff = (today.year - min_date.year) * 12 + (today.month - min_date.month)\n",
    "\n",
    "    if months_diff < 12:\n",
    "        return False #too young of accounts\n",
    "\n",
    "    return True "
   ]
  },
  {
   "cell_type": "code",
   "execution_count": 306,
   "id": "9dfc4abd-bf61-4128-a595-3f974a16b009",
   "metadata": {},
   "outputs": [
    {
     "data": {
      "text/plain": [
       "False"
      ]
     },
     "execution_count": 306,
     "metadata": {},
     "output_type": "execute_result"
    }
   ],
   "source": [
    "is_credit_history_eligible(credit_report)"
   ]
  },
  {
   "cell_type": "markdown",
   "id": "bc2ec4d3-df88-482e-ac43-a2efcfb2130c",
   "metadata": {},
   "source": [
    "## Public API Example #1"
   ]
  },
  {
   "cell_type": "code",
   "execution_count": 25,
   "id": "171e32a3-b16d-407c-b28d-b08f4ed9af25",
   "metadata": {},
   "outputs": [
    {
     "name": "stdin",
     "output_type": "stream",
     "text": [
      "Please enter your name:  mike\n"
     ]
    },
    {
     "name": "stdout",
     "output_type": "stream",
     "text": [
      "Hello, mike\n"
     ]
    }
   ],
   "source": [
    "your_name = input(\"Please enter your name: \") #ask user for input\n",
    "print(f\"Hello, {your_name}\") #variable in a string"
   ]
  },
  {
   "cell_type": "code",
   "execution_count": 27,
   "id": "2d5945ff-392e-412e-860d-9ef516bcef9a",
   "metadata": {},
   "outputs": [
    {
     "name": "stdout",
     "output_type": "stream",
     "text": [
      "{'count': 1145946, 'name': 'mike', 'gender': 'male', 'probability': 1.0}\n"
     ]
    }
   ],
   "source": [
    "headers = {\n",
    "    'accept': 'application/json'\n",
    "}\n",
    "\n",
    "params = { #query parameters (after the ?) \n",
    "    'name': your_name \n",
    "}\n",
    "\n",
    "response = requests.get(\n",
    "    #'https://api.genderize.io/?name=lauren'\n",
    "    'https://api.genderize.io/',\n",
    "    params = params,\n",
    "    headers = headers\n",
    ")\n",
    "\n",
    "print(response.json())"
   ]
  },
  {
   "cell_type": "code",
   "execution_count": 29,
   "id": "ca9215bf-e031-45a1-84f6-2aa063f72f83",
   "metadata": {},
   "outputs": [
    {
     "name": "stdout",
     "output_type": "stream",
     "text": [
      "Hello, my name is mike and I am male.\n"
     ]
    }
   ],
   "source": [
    "json_response = response.json()\n",
    "name = json_response[\"name\"]\n",
    "gender = json_response[\"gender\"]\n",
    "\n",
    "print(f\"Hello, my name is {name} and I am {gender}.\")"
   ]
  },
  {
   "cell_type": "markdown",
   "id": "bbe2ae1f-4947-441b-ae2a-d14a856ff604",
   "metadata": {},
   "source": [
    "## Public API Example #2"
   ]
  },
  {
   "cell_type": "markdown",
   "id": "90fbbdba-a785-463c-a9bd-7a4e64ccfb26",
   "metadata": {},
   "source": [
    "#### API : https://dogapi.dog/docs/api-v2\n",
    "\n",
    "#### Q: Return all of the Names associated with each group"
   ]
  },
  {
   "cell_type": "code",
   "execution_count": 55,
   "id": "122f9c30-3e7d-4e64-b918-4f43433f7093",
   "metadata": {},
   "outputs": [],
   "source": [
    "##API Call - get JSON Response"
   ]
  },
  {
   "cell_type": "code",
   "execution_count": 57,
   "id": "ade2cd61-eb6c-4d8f-bacf-fb2cf645c92d",
   "metadata": {
    "scrolled": true
   },
   "outputs": [],
   "source": [
    "headers = {\n",
    "    'accept': 'application/json'\n",
    "}\n",
    "\n",
    "#params = { #query parameters \n",
    "#    'name': your_name \n",
    "#}\n",
    "\n",
    "response = requests.get(\n",
    "    #'https://api.genderize.io/?name=lauren'\n",
    "    'https://dogapi.dog/api/v2/groups',\n",
    "    #params = params,\n",
    "    headers = headers\n",
    ")"
   ]
  },
  {
   "cell_type": "code",
   "execution_count": 59,
   "id": "6751146d-0068-41f8-a4bc-313089a63ad1",
   "metadata": {},
   "outputs": [],
   "source": [
    "json_response = response.json()"
   ]
  },
  {
   "cell_type": "code",
   "execution_count": 72,
   "id": "427f4163-62ed-49e5-acb0-49d5c83c3ca4",
   "metadata": {},
   "outputs": [],
   "source": [
    "data_r = json_response[\"data\"]"
   ]
  },
  {
   "cell_type": "code",
   "execution_count": 63,
   "id": "612138f2-4dbd-46d3-9114-dc7be0c9c333",
   "metadata": {},
   "outputs": [
    {
     "data": {
      "text/plain": [
       "{'id': '8000793f-a1ae-4ec4-8d55-ef83f1f644e5',\n",
       " 'type': 'group',\n",
       " 'attributes': {'name': 'Foundation Stock Service'},\n",
       " 'relationships': {'breeds': {'data': [{'id': '68f47c5a-5115-47cd-9849-e45d3c378f12',\n",
       "     'type': 'breed'},\n",
       "    {'id': '30f62219-e225-42cd-bd07-02425f944c07', 'type': 'breed'},\n",
       "    {'id': '087979f3-1c45-4d8a-a153-462bf5ea379e', 'type': 'breed'},\n",
       "    {'id': 'dbff689b-8370-4b6a-9306-215aba549102', 'type': 'breed'},\n",
       "    {'id': '399c6552-7b4f-418c-a3cc-951cf6752a2e', 'type': 'breed'},\n",
       "    {'id': '112c4528-17e4-4e35-bcc3-706340d26d04', 'type': 'breed'},\n",
       "    {'id': '4348208f-eb27-480f-bf3a-3f7c6b5de312', 'type': 'breed'},\n",
       "    {'id': '8a78ce08-b3ae-4db0-9048-1354cddb7450', 'type': 'breed'},\n",
       "    {'id': 'caf69af9-6fcb-4fb2-a543-d930513ac22a', 'type': 'breed'},\n",
       "    {'id': 'c500abe0-0ee1-4209-9767-08cc03e6abdf', 'type': 'breed'},\n",
       "    {'id': '1d18a7b3-ce08-41bb-a573-a99f89fb14f1', 'type': 'breed'},\n",
       "    {'id': '44d9d8b1-184c-4ba8-84f1-c2cf582f9a95', 'type': 'breed'},\n",
       "    {'id': 'c5b9b358-3237-48f3-ad12-7e1e8c0594ef', 'type': 'breed'},\n",
       "    {'id': 'aecc4be6-63e1-401c-acf9-55f3dd5202e0', 'type': 'breed'},\n",
       "    {'id': 'fc47d849-11a9-4a93-af90-c5ff054a20f3', 'type': 'breed'},\n",
       "    {'id': '2adf5a19-028d-4993-8044-4571008b6d49', 'type': 'breed'},\n",
       "    {'id': 'e855abe2-1a95-43e2-9323-13675cfcb041', 'type': 'breed'},\n",
       "    {'id': '112035a1-3ec1-4fd2-80c7-2fb96936ddec', 'type': 'breed'},\n",
       "    {'id': 'c69ce556-3d9b-4546-98b1-76c27121115e', 'type': 'breed'},\n",
       "    {'id': '667c7359-a739-4f2b-abb4-98867671e375', 'type': 'breed'},\n",
       "    {'id': '5911839f-8018-483e-9008-c2be65c637a2', 'type': 'breed'},\n",
       "    {'id': '0092363c-abcf-436e-8012-40b66cb8d2c8', 'type': 'breed'},\n",
       "    {'id': '27b8b673-5caa-4563-add8-8527a5c3762e', 'type': 'breed'},\n",
       "    {'id': 'b56e4273-9ec0-4274-831d-b238225f8fb6', 'type': 'breed'},\n",
       "    {'id': 'cb71135b-596c-4943-892a-d0757da0297e', 'type': 'breed'},\n",
       "    {'id': '75d3913b-d716-405e-b07b-081e40ba89d0', 'type': 'breed'},\n",
       "    {'id': 'c6b12b96-9f53-445b-8f3e-bf867c761dca', 'type': 'breed'},\n",
       "    {'id': '6e04f700-c307-4dd5-8d2f-fd346d949cd6', 'type': 'breed'},\n",
       "    {'id': '26fa8a54-2555-49f3-8d04-90ff84764295', 'type': 'breed'},\n",
       "    {'id': 'e276b208-3b97-4b3f-ab99-5d083e8a50d6', 'type': 'breed'},\n",
       "    {'id': 'bcb5c498-8585-4f4d-b45b-f1931752ee4a', 'type': 'breed'},\n",
       "    {'id': '661e6c1f-2185-4e04-aa55-b2326172e233', 'type': 'breed'},\n",
       "    {'id': '3652f545-c185-4095-be91-277b3f1bd672', 'type': 'breed'},\n",
       "    {'id': 'cc82182f-5a9e-4bf3-a46a-a2074837bc4e', 'type': 'breed'},\n",
       "    {'id': 'a07fe528-55e8-417a-8bc0-4803e426e82a', 'type': 'breed'},\n",
       "    {'id': 'dcd92616-487b-4776-8a0d-060d4ba9c021', 'type': 'breed'},\n",
       "    {'id': 'a864f5b7-1b1e-4e9c-9e2f-ef832605d5eb', 'type': 'breed'},\n",
       "    {'id': '7b1fef86-3fa7-4dd0-92d2-8d7a5524e844', 'type': 'breed'},\n",
       "    {'id': '937f2454-44f4-4a1d-b938-cdcd5d930b20', 'type': 'breed'},\n",
       "    {'id': 'c5926f0a-c5f5-47b0-888a-2e949694e810', 'type': 'breed'},\n",
       "    {'id': 'c24ba2fd-3fb2-49e9-b95e-748dc4d1196c', 'type': 'breed'},\n",
       "    {'id': 'c30c7a54-dd12-4b75-bdd5-5489ab68f0cf', 'type': 'breed'},\n",
       "    {'id': '05cfc7f3-c2e6-426c-a245-818a89a7d3f6', 'type': 'breed'},\n",
       "    {'id': '5432b628-6039-4dcb-adf5-5ddd774fe986', 'type': 'breed'},\n",
       "    {'id': 'd122ef48-4840-4e30-beee-24ccb6bf3a46', 'type': 'breed'},\n",
       "    {'id': '13d39af7-290b-4e8f-923b-4af0c93be1d3', 'type': 'breed'},\n",
       "    {'id': '7fb7638f-861f-40d8-8277-69a87a48de5e', 'type': 'breed'},\n",
       "    {'id': 'f72528b5-a5d7-4a17-b709-aba2db722307', 'type': 'breed'},\n",
       "    {'id': '914840ee-b091-4a9f-b827-099da31b4024', 'type': 'breed'},\n",
       "    {'id': '8a2994b0-4868-4e2c-824e-56fcd8200e84', 'type': 'breed'},\n",
       "    {'id': 'a220a1fa-ce93-423f-b426-59c681024ef8', 'type': 'breed'},\n",
       "    {'id': 'c052b615-9502-407f-b46a-845d246d9f22', 'type': 'breed'},\n",
       "    {'id': '066e3871-bb5e-493f-9cd6-ccbf2a79c69f', 'type': 'breed'},\n",
       "    {'id': '15e35786-3ff3-4f59-87eb-d9dd84a29d07', 'type': 'breed'},\n",
       "    {'id': 'c6f77a4c-f515-4e67-9a26-3ed5ba4a8274', 'type': 'breed'},\n",
       "    {'id': 'ed4e6095-eaf9-4e93-9736-705fbcf2ce68', 'type': 'breed'},\n",
       "    {'id': 'a9d55c39-c2e0-4d55-884c-e2cf7c122e21', 'type': 'breed'},\n",
       "    {'id': '052684bc-a484-4f29-b953-d5ccf6a3d5e6', 'type': 'breed'},\n",
       "    {'id': '553ed85b-84e5-481d-919c-bde4250ef1fb', 'type': 'breed'},\n",
       "    {'id': '0b8a1e9e-bd7f-4382-be78-be3d4429294a', 'type': 'breed'},\n",
       "    {'id': '9b1bc137-68fe-4e7a-8b7f-3ae5481de7c2', 'type': 'breed'},\n",
       "    {'id': '8d8acfdf-54a9-46fa-a5e6-e5d1ed3c7528', 'type': 'breed'},\n",
       "    {'id': '872b77e4-f955-43cd-a22a-880274e37844', 'type': 'breed'},\n",
       "    {'id': '9926cd59-5614-4a14-91bd-d09959916bc4', 'type': 'breed'},\n",
       "    {'id': '577b0776-4c05-4ce3-9014-886641c31141', 'type': 'breed'},\n",
       "    {'id': 'e2d26edb-5af4-432e-a731-d72b90cbc55e', 'type': 'breed'},\n",
       "    {'id': '406e8454-d350-4187-9788-6d857ee52e06', 'type': 'breed'},\n",
       "    {'id': 'caaa1a51-e60b-4192-ad2f-d7237b71ff40', 'type': 'breed'},\n",
       "    {'id': 'f995e320-df67-4ee0-9acb-ace150c5d3da', 'type': 'breed'},\n",
       "    {'id': 'bc97ff27-930e-4d3a-95a8-5a8f2ad4c0e2', 'type': 'breed'},\n",
       "    {'id': '5462fedb-7f80-49c5-98c3-8ce3207e7d03', 'type': 'breed'},\n",
       "    {'id': '3fb566ec-ed2b-4ede-8d9e-0155e3eeccb3', 'type': 'breed'}]}}}"
      ]
     },
     "execution_count": 63,
     "metadata": {},
     "output_type": "execute_result"
    }
   ],
   "source": [
    "first_data_r = data_r[0]\n",
    "first_data_r"
   ]
  },
  {
   "cell_type": "code",
   "execution_count": 47,
   "id": "e3f1f254-f05e-494d-b41d-9bafba4516b9",
   "metadata": {},
   "outputs": [
    {
     "data": {
      "text/plain": [
       "{'name': 'Foundation Stock Service'}"
      ]
     },
     "execution_count": 47,
     "metadata": {},
     "output_type": "execute_result"
    }
   ],
   "source": [
    "attributes = first_data_r[\"attributes\"]\n",
    "attributes"
   ]
  },
  {
   "cell_type": "code",
   "execution_count": 49,
   "id": "8718fa8c-2088-465e-ae0b-5733a56af62c",
   "metadata": {},
   "outputs": [
    {
     "data": {
      "text/plain": [
       "'Foundation Stock Service'"
      ]
     },
     "execution_count": 49,
     "metadata": {},
     "output_type": "execute_result"
    }
   ],
   "source": [
    "attributes[\"name\"]"
   ]
  },
  {
   "cell_type": "code",
   "execution_count": 66,
   "id": "b11227ff-a167-4049-b414-f65c10bdfdc0",
   "metadata": {},
   "outputs": [],
   "source": [
    "#Input JSON payload\n",
    "#Output is a list of names  \n",
    "def get_all_names(json_report):\n",
    "\n",
    "    list_of_names = []\n",
    "    \n",
    "    #Get just \"data\" attributes\n",
    "    json_data = json_report[\"data\"]\n",
    "\n",
    "    for obj in json_data:\n",
    "        attributes = obj[\"attributes\"]\n",
    "        \n",
    "        obj_name = attributes[\"name\"]\n",
    "\n",
    "        list_of_names.append(obj_name)\n",
    "\n",
    "    return list_of_names"
   ]
  },
  {
   "cell_type": "code",
   "execution_count": 68,
   "id": "c28d2b58-d1f0-403d-a98c-ab0f55218377",
   "metadata": {},
   "outputs": [
    {
     "data": {
      "text/plain": [
       "['Foundation Stock Service',\n",
       " 'Herding Group',\n",
       " 'Hound Group',\n",
       " 'Non-Sporting Group',\n",
       " 'Sporting Group',\n",
       " 'Terrier Group',\n",
       " 'Toy Group',\n",
       " 'Working Group',\n",
       " 'Miscellaneous Class']"
      ]
     },
     "execution_count": 68,
     "metadata": {},
     "output_type": "execute_result"
    }
   ],
   "source": [
    "get_all_names(json_response)"
   ]
  },
  {
   "cell_type": "markdown",
   "id": "4e28245d-9811-4b8b-a35e-46f3a16cd50f",
   "metadata": {},
   "source": [
    "## Public API Example #3"
   ]
  },
  {
   "cell_type": "markdown",
   "id": "24dbeb93-2eb1-402b-9fdc-e1639337d692",
   "metadata": {},
   "source": [
    "#### Q: Given ID of a group, get the name and life expectancy of every breed in the group\n",
    "\n",
    "GROUP ID = 8000793f-a1ae-4ec4-8d55-ef83f1f644e5"
   ]
  },
  {
   "cell_type": "markdown",
   "id": "34dbe819-17f5-464c-a096-f05b36cb0456",
   "metadata": {},
   "source": [
    "#### 1) API Request /groups{id} and get JSON"
   ]
  },
  {
   "cell_type": "code",
   "execution_count": 85,
   "id": "8ebbafa8-9521-42d5-ab5b-06bd182e0893",
   "metadata": {},
   "outputs": [],
   "source": [
    "headers = {\n",
    "    'accept': 'application/json'\n",
    "}\n",
    "\n",
    "#params = { #query parameters - after the question mark\n",
    "#    'id': id \n",
    "#}\n",
    "\n",
    "response = requests.get(\n",
    "    'https://dogapi.dog/api/v2/groups/8000793f-a1ae-4ec4-8d55-ef83f1f644e5',\n",
    "    #params = params,\n",
    "    headers = headers\n",
    ")\n",
    "\n",
    "json_response_group = response.json()"
   ]
  },
  {
   "cell_type": "markdown",
   "id": "c9c2abb8-ba7d-4b25-84be-6228a599aeb4",
   "metadata": {},
   "source": [
    "#### 2) API Request /breeds{id} and get JSON\n",
    "Will need to do this request over all breed IDs from group, but lets take one to start Breed ID = 30f62219-e225-42cd-bd07-02425f944c07"
   ]
  },
  {
   "cell_type": "code",
   "execution_count": 93,
   "id": "6870e60a-85df-4088-b112-cdc311e81715",
   "metadata": {},
   "outputs": [],
   "source": [
    "headers = {\n",
    "    'accept': 'application/json'\n",
    "}\n",
    "\n",
    "#params = { #query parameters - after the question mark\n",
    "#    'id': id \n",
    "#}\n",
    "\n",
    "response = requests.get(\n",
    "    'https://dogapi.dog/api/v2/breeds/30f62219-e225-42cd-bd07-02425f944c07',\n",
    "    #params = params,\n",
    "    headers = headers\n",
    ")\n",
    "\n",
    "json_response_breed = response.json()"
   ]
  },
  {
   "cell_type": "code",
   "execution_count": 95,
   "id": "27372ef0-8de6-4fee-bce3-1217d7ea020e",
   "metadata": {},
   "outputs": [
    {
     "data": {
      "text/plain": [
       "{'data': {'id': '30f62219-e225-42cd-bd07-02425f944c07',\n",
       "  'type': 'breed',\n",
       "  'attributes': {'name': 'Hokkaido',\n",
       "   'description': 'The Hokkaido is a medium-sized breed of dog from the island of Hokkaido in Japan. These dogs are medium in size, with a thick double coat of fur to protect them from the cold. They have a dignified and loyal demeanor, making them excellent guard and companion dogs. They are intelligent and trainable, but require firm and consistent training to be obedient. They are brave and alert, with an instinct to protect their family and property.',\n",
       "   'life': {'max': 15, 'min': 12},\n",
       "   'male_weight': {'max': 30, 'min': 20},\n",
       "   'female_weight': {'max': 30, 'min': 20},\n",
       "   'hypoallergenic': False},\n",
       "  'relationships': {'group': {'data': {'id': '8000793f-a1ae-4ec4-8d55-ef83f1f644e5',\n",
       "     'type': 'group'}}}},\n",
       " 'links': {'self': 'https://dogapi.dog/api/v2/breeds/30f62219-e225-42cd-bd07-02425f944c07'}}"
      ]
     },
     "execution_count": 95,
     "metadata": {},
     "output_type": "execute_result"
    }
   ],
   "source": [
    "json_response_breed"
   ]
  },
  {
   "cell_type": "markdown",
   "id": "2ce1cca6-85aa-4215-87df-2cc43f54304b",
   "metadata": {},
   "source": [
    "#### 3) From this Breed JSON response, Get name and life expectancy of the Breed [Manual Try First]"
   ]
  },
  {
   "cell_type": "code",
   "execution_count": 119,
   "id": "f3112f79-d1ca-45ad-85f0-dc9192726861",
   "metadata": {},
   "outputs": [
    {
     "data": {
      "text/plain": [
       "{'name': 'Hokkaido',\n",
       " 'description': 'The Hokkaido is a medium-sized breed of dog from the island of Hokkaido in Japan. These dogs are medium in size, with a thick double coat of fur to protect them from the cold. They have a dignified and loyal demeanor, making them excellent guard and companion dogs. They are intelligent and trainable, but require firm and consistent training to be obedient. They are brave and alert, with an instinct to protect their family and property.',\n",
       " 'life': {'max': 15, 'min': 12},\n",
       " 'male_weight': {'max': 30, 'min': 20},\n",
       " 'female_weight': {'max': 30, 'min': 20},\n",
       " 'hypoallergenic': False}"
      ]
     },
     "execution_count": 119,
     "metadata": {},
     "output_type": "execute_result"
    }
   ],
   "source": [
    "json_breed_data_atts = json_response_breed[\"data\"][\"attributes\"]\n",
    "\n",
    "json_breed_data_atts"
   ]
  },
  {
   "cell_type": "code",
   "execution_count": 121,
   "id": "a429ff8f-3fa4-43b1-9433-2d30dd3e7d1c",
   "metadata": {},
   "outputs": [
    {
     "data": {
      "text/plain": [
       "15"
      ]
     },
     "execution_count": 121,
     "metadata": {},
     "output_type": "execute_result"
    }
   ],
   "source": [
    "breed_name = json_breed_data_atts[\"name\"]\n",
    "breed_lifeExp = json_breed_data_atts[\"life\"][\"max\"]\n",
    "breed_lifeExp "
   ]
  },
  {
   "cell_type": "markdown",
   "id": "74ede4f9-28ba-4c97-93f5-fd0bdcc18d24",
   "metadata": {},
   "source": [
    "#### 4) Function to Return Name and LifeExp of Breed Given JSON Response as Input"
   ]
  },
  {
   "cell_type": "code",
   "execution_count": 133,
   "id": "0e6ddc1a-3d81-4346-9606-7e579ea9fbb1",
   "metadata": {},
   "outputs": [],
   "source": [
    "#Input: /breed{id} JSON Response\n",
    "#Output: Object (Dict) of {breed_id:\"\",name:\"\",lifeExp\"\"}\n",
    "def breed_name_lifeExp(breed_json_response):\n",
    "\n",
    "    breeds_name_lifeExp = {\"breed_id\": \"\",\n",
    "                           \"breed_name\": \"\",\n",
    "                           \"breed_lifeExp\": \"\"} #define output dictionary\n",
    "\n",
    "    #Get the breed_id, breed_name and breed_lifeExp\n",
    "    breed_id = breed_json_response[\"data\"][\"id\"]\n",
    "    \n",
    "    breed_json_atts = breed_json_response[\"data\"][\"attributes\"]\n",
    "\n",
    "    breed_name = breed_json_atts[\"name\"]\n",
    "    breed_lifeExp = breed_json_atts[\"life\"][\"max\"]\n",
    "\n",
    "    #Add values to the corresponding key in Dictionary \n",
    "    breeds_name_lifeExp[\"breed_id\"] = breed_id\n",
    "    breeds_name_lifeExp[\"breed_name\"] = breed_name\n",
    "    breeds_name_lifeExp[\"breed_lifeExp\"] = breed_lifeExp\n",
    "\n",
    "    return breeds_name_lifeExp"
   ]
  },
  {
   "cell_type": "code",
   "execution_count": 135,
   "id": "44938c3a-a833-449c-876f-1b709a48b5d9",
   "metadata": {},
   "outputs": [
    {
     "data": {
      "text/plain": [
       "{'breed_id': '30f62219-e225-42cd-bd07-02425f944c07',\n",
       " 'breed_name': 'Hokkaido',\n",
       " 'breed_lifeExp': 15}"
      ]
     },
     "execution_count": 135,
     "metadata": {},
     "output_type": "execute_result"
    }
   ],
   "source": [
    "#Test the function\n",
    "example_breed = breed_name_lifeExp(json_response_breed)\n",
    "example_breed"
   ]
  },
  {
   "cell_type": "markdown",
   "id": "b2525817-08f8-48f2-90bb-0cee65a6eac1",
   "metadata": {},
   "source": [
    "#### 5) Extrapolate to Loop Over All Breed IDs that you get from the Group:"
   ]
  },
  {
   "cell_type": "markdown",
   "id": "8e82f4fc-ed78-45aa-b533-09fa513b059c",
   "metadata": {},
   "source": [
    "##### 5a) Get List of all Breed IDs"
   ]
  },
  {
   "cell_type": "code",
   "execution_count": 183,
   "id": "b204be7c-caee-4518-93e3-816d05443c14",
   "metadata": {},
   "outputs": [
    {
     "data": {
      "text/plain": [
       "['68f47c5a-5115-47cd-9849-e45d3c378f12',\n",
       " '30f62219-e225-42cd-bd07-02425f944c07',\n",
       " '087979f3-1c45-4d8a-a153-462bf5ea379e',\n",
       " 'dbff689b-8370-4b6a-9306-215aba549102',\n",
       " '399c6552-7b4f-418c-a3cc-951cf6752a2e']"
      ]
     },
     "execution_count": 183,
     "metadata": {},
     "output_type": "execute_result"
    }
   ],
   "source": [
    "parsed_json_group = json_response_group[\"data\"][\"relationships\"][\"breeds\"][\"data\"]\n",
    "\n",
    "breed_ids = []\n",
    "\n",
    "for obj in parsed_json_group:\n",
    "\n",
    "    breed_ids.append(obj[\"id\"])\n",
    "\n",
    "breed_ids = breed_ids[:5] #limit to 5\n",
    "breed_ids"
   ]
  },
  {
   "cell_type": "markdown",
   "id": "7ab9cdc8-f30f-4042-b10d-6d023ed5b167",
   "metadata": {},
   "source": [
    "##### 5b) Loop Over Breed ID List and put into Results"
   ]
  },
  {
   "cell_type": "code",
   "execution_count": 190,
   "id": "f140ac3e-abca-40ec-b41e-8a16102c8993",
   "metadata": {},
   "outputs": [],
   "source": [
    "results = [] #output\n",
    "\n",
    "for breed_id in breed_ids:\n",
    "    \n",
    "    #First, get the JSON Response\n",
    "    headers = {\n",
    "    'accept': 'application/json'\n",
    "    }\n",
    "\n",
    "    #params = { #query parameters - after the question mark\n",
    "    #    'id': id \n",
    "    #}\n",
    "\n",
    "    response = requests.get(\n",
    "        'https://dogapi.dog/api/v2/breeds/'+breed_id,\n",
    "        #params = params,\n",
    "        headers = headers\n",
    "    )\n",
    "\n",
    "    json_response_breed = response.json()\n",
    "\n",
    "    #Then, From json_response_breed, get the associated id, name, lifeExp\n",
    "    one_breed_name_lifeExp = breed_name_lifeExp(json_response_breed)\n",
    "\n",
    "    results.append(one_breed_name_lifeExp)"
   ]
  },
  {
   "cell_type": "code",
   "execution_count": 191,
   "id": "881ee181-db2f-492b-92a6-c94a93e649a8",
   "metadata": {},
   "outputs": [
    {
     "data": {
      "text/plain": [
       "[{'breed_id': '68f47c5a-5115-47cd-9849-e45d3c378f12',\n",
       "  'breed_name': 'Caucasian Shepherd Dog',\n",
       "  'breed_lifeExp': 20},\n",
       " {'breed_id': '30f62219-e225-42cd-bd07-02425f944c07',\n",
       "  'breed_name': 'Hokkaido',\n",
       "  'breed_lifeExp': 15},\n",
       " {'breed_id': '087979f3-1c45-4d8a-a153-462bf5ea379e',\n",
       "  'breed_name': 'Japanese Terrier',\n",
       "  'breed_lifeExp': 20},\n",
       " {'breed_id': 'dbff689b-8370-4b6a-9306-215aba549102',\n",
       "  'breed_name': 'Hanoverian Scenthound',\n",
       "  'breed_lifeExp': 14},\n",
       " {'breed_id': '399c6552-7b4f-418c-a3cc-951cf6752a2e',\n",
       "  'breed_name': 'Perro de Presa Canario',\n",
       "  'breed_lifeExp': 12}]"
      ]
     },
     "execution_count": 191,
     "metadata": {},
     "output_type": "execute_result"
    }
   ],
   "source": [
    "results"
   ]
  },
  {
   "cell_type": "markdown",
   "id": "78012993-f333-4ac9-8a23-9adefc3eb0cb",
   "metadata": {},
   "source": [
    "#### 6) Find Breed With Highest Life Expectancy"
   ]
  },
  {
   "cell_type": "code",
   "execution_count": 200,
   "id": "657503a0-7c6c-4df8-8f0f-9509b24ce0dd",
   "metadata": {},
   "outputs": [],
   "source": [
    "lifeExp = 0\n",
    "\n",
    "for obj in results:\n",
    "\n",
    "    if lifeExp < obj[\"breed_lifeExp\"]:\n",
    "        lifeExp = obj[\"breed_lifeExp\"]\n",
    "    "
   ]
  },
  {
   "cell_type": "code",
   "execution_count": 202,
   "id": "091bbb09-81f0-4b47-80a4-ac767622e229",
   "metadata": {},
   "outputs": [
    {
     "data": {
      "text/plain": [
       "20"
      ]
     },
     "execution_count": 202,
     "metadata": {},
     "output_type": "execute_result"
    }
   ],
   "source": [
    "lifeExp"
   ]
  },
  {
   "cell_type": "code",
   "execution_count": 694,
   "id": "88877980-c805-4982-b96a-55709810bd2b",
   "metadata": {},
   "outputs": [],
   "source": [
    "longest_life_exp = 0\n",
    "associated_breed_name = \"\"\n",
    "\n",
    "for obj in results:\n",
    "    \n",
    "    if obj[\"breed_lifeExp\"] > longest_life_exp:\n",
    "        longest_life_exp = obj[\"breed_lifeExp\"]\n",
    "        associated_breed_name = obj[\"breed_name\"]\n"
   ]
  },
  {
   "cell_type": "code",
   "execution_count": 696,
   "id": "bc4b5cd6-8c74-4f27-8b6a-d902abf63a66",
   "metadata": {},
   "outputs": [
    {
     "data": {
      "text/plain": [
       "'Caucasian Shepherd Dog'"
      ]
     },
     "execution_count": 696,
     "metadata": {},
     "output_type": "execute_result"
    }
   ],
   "source": [
    "associated_breed_name"
   ]
  },
  {
   "cell_type": "markdown",
   "id": "b12daa3a-8fca-43b4-ac65-680e97d8b160",
   "metadata": {},
   "source": [
    "## Public API Example #4\n",
    "#### Q: Find the breed of dog that has the biggest difference between the max male weight and max female weight. Then output a list of the top 5."
   ]
  },
  {
   "cell_type": "markdown",
   "id": "f4d5ec7b-42d5-4199-b4e1-871ac719a0ad",
   "metadata": {},
   "source": [
    "#### 1) Get JSON Response /breeds"
   ]
  },
  {
   "cell_type": "code",
   "execution_count": 208,
   "id": "87dafedb-d936-4f38-9ee0-166db9d63546",
   "metadata": {},
   "outputs": [],
   "source": [
    "#Get JSON Response /breeds\n",
    "headers = {\n",
    "    'accept': 'application/json'\n",
    "}\n",
    "\n",
    "#params = { #query parameters \n",
    "#    'name': your_name \n",
    "#}\n",
    "\n",
    "response = requests.get(\n",
    "    'https://dogapi.dog/api/v2/breeds',\n",
    "    #params = params,\n",
    "    headers = headers\n",
    ")\n",
    "\n",
    "json_response_breed = response.json()"
   ]
  },
  {
   "cell_type": "markdown",
   "id": "a420f18b-2a10-4973-8778-6cfc016aa326",
   "metadata": {},
   "source": [
    "#### 2) Find Differntial Weight for 1 Breed"
   ]
  },
  {
   "cell_type": "code",
   "execution_count": 222,
   "id": "bb833485-547a-4f8b-bac0-fad9356094ea",
   "metadata": {},
   "outputs": [
    {
     "data": {
      "text/plain": [
       "{'id': '036feed0-da8a-42c9-ab9a-57449b530b13',\n",
       " 'type': 'breed',\n",
       " 'attributes': {'name': 'Affenpinscher',\n",
       "  'description': 'The Affenpinscher is a small and playful breed of dog that was originally bred in Germany for hunting small game. They are intelligent, energetic, and affectionate, and make excellent companion dogs.',\n",
       "  'life': {'max': 16, 'min': 14},\n",
       "  'male_weight': {'max': 5, 'min': 3},\n",
       "  'female_weight': {'max': 5, 'min': 3},\n",
       "  'hypoallergenic': True},\n",
       " 'relationships': {'group': {'data': {'id': 'f56dc4b1-ba1a-4454-8ce2-bd5d41404a0c',\n",
       "    'type': 'group'}}}}"
      ]
     },
     "execution_count": 222,
     "metadata": {},
     "output_type": "execute_result"
    }
   ],
   "source": [
    "first_out = json_response_breed[\"data\"][0]\n",
    "first_out"
   ]
  },
  {
   "cell_type": "code",
   "execution_count": 230,
   "id": "f9a8fb52-d810-4433-85e6-349271846863",
   "metadata": {},
   "outputs": [],
   "source": [
    "m_weight = first_out[\"attributes\"][\"male_weight\"][\"max\"]\n",
    "f_weight = first_out[\"attributes\"][\"female_weight\"][\"max\"]"
   ]
  },
  {
   "cell_type": "code",
   "execution_count": 232,
   "id": "41ab6b2a-ae74-4a54-aa6b-f8f2796a3621",
   "metadata": {},
   "outputs": [
    {
     "data": {
      "text/plain": [
       "0"
      ]
     },
     "execution_count": 232,
     "metadata": {},
     "output_type": "execute_result"
    }
   ],
   "source": [
    "# Calculate diff\n",
    "diff_weight = m_weight - f_weight\n",
    "diff_weight"
   ]
  },
  {
   "cell_type": "markdown",
   "id": "ba63eb80-00a1-4062-9618-09031149b213",
   "metadata": {},
   "source": [
    "#### 3) Extrapolate to all Breed_IDs"
   ]
  },
  {
   "cell_type": "code",
   "execution_count": 234,
   "id": "7a09281c-0cd4-4060-b511-76370e6d93fc",
   "metadata": {},
   "outputs": [],
   "source": [
    "### Extrapolate to all breed_IDs"
   ]
  },
  {
   "cell_type": "code",
   "execution_count": 260,
   "id": "77885b70-9d57-43aa-93eb-c73ccfbce236",
   "metadata": {},
   "outputs": [],
   "source": [
    "max_differential = 0\n",
    "breed_ID = \"\"\n",
    "breed_name = \"\"\n",
    "\n",
    "for obj in json_response_breed[\"data\"]:\n",
    "    \n",
    "    m_weight = obj[\"attributes\"][\"male_weight\"][\"max\"]\n",
    "    f_weight = obj[\"attributes\"][\"female_weight\"][\"max\"]\n",
    "    diff_weight = m_weight - f_weight\n",
    "\n",
    "    if diff_weight > max_differential:\n",
    "        max_differential = diff_weight\n",
    "        breed_ID = obj[\"id\"]\n",
    "        breed_name = obj[\"attributes\"][\"name\"]"
   ]
  },
  {
   "cell_type": "code",
   "execution_count": 295,
   "id": "94f726f5-bbf6-4a83-ba48-12f816491a45",
   "metadata": {},
   "outputs": [
    {
     "name": "stdout",
     "output_type": "stream",
     "text": [
      "Name: Akita; Differential: 10\n"
     ]
    }
   ],
   "source": [
    "print('Name: '+ breed_name +'; Differential:', max_differential)"
   ]
  },
  {
   "cell_type": "code",
   "execution_count": null,
   "id": "311a0790-a40e-43b2-9955-270f500af80e",
   "metadata": {},
   "outputs": [],
   "source": [
    "### Find top 5 max weight differentials"
   ]
  },
  {
   "cell_type": "code",
   "execution_count": 329,
   "id": "615822b1-be86-4c07-97e0-f684fc622bee",
   "metadata": {},
   "outputs": [],
   "source": [
    "max_differential_dict = [] \n",
    "\n",
    "breed_ID = \"\"\n",
    "breed_name = \"\"\n",
    "\n",
    "for obj in json_response_breed[\"data\"]:\n",
    "    \n",
    "    m_weight = obj[\"attributes\"][\"male_weight\"][\"max\"]\n",
    "    f_weight = obj[\"attributes\"][\"female_weight\"][\"max\"]\n",
    "    diff_weight = m_weight - f_weight\n",
    "    breed_ID = obj[\"id\"]\n",
    "\n",
    "    #Append a dictionary in the list (so creates a list of dictionaries)\n",
    "    max_differential_dict.append({\"breed_ID\":breed_ID,\n",
    "                                  \"diff_weight\":diff_weight})"
   ]
  },
  {
   "cell_type": "code",
   "execution_count": 331,
   "id": "9a11dc50-daf0-40d3-87eb-419a168ea239",
   "metadata": {},
   "outputs": [
    {
     "data": {
      "text/plain": [
       "[{'breed_ID': '036feed0-da8a-42c9-ab9a-57449b530b13', 'diff_weight': 0},\n",
       " {'breed_ID': 'dd9362cc-52e0-462d-b856-fccdcf24b140', 'diff_weight': 2},\n",
       " {'breed_ID': '1460844f-841c-4de8-b788-271aa4d63224', 'diff_weight': 3},\n",
       " {'breed_ID': 'e7e99424-d514-4b56-9f0c-05736f6dd22d', 'diff_weight': 10},\n",
       " {'breed_ID': '667c7359-a739-4f2b-abb4-98867671e375', 'diff_weight': 0},\n",
       " {'breed_ID': '5328d59b-b4e4-48e9-98ec-0545c66c4385', 'diff_weight': 5},\n",
       " {'breed_ID': 'f72528b5-a5d7-4a17-b709-aba2db722307', 'diff_weight': 5},\n",
       " {'breed_ID': '4524645f-dda7-4031-9272-dee29f5f91ea', 'diff_weight': 0},\n",
       " {'breed_ID': 'e1c0664d-aa61-4c85-970d-6c86ba197bee', 'diff_weight': 0},\n",
       " {'breed_ID': '8355b9c9-3724-477d-858a-c1c1c0f1743f', 'diff_weight': 0}]"
      ]
     },
     "execution_count": 331,
     "metadata": {},
     "output_type": "execute_result"
    }
   ],
   "source": [
    "max_differential_dict"
   ]
  },
  {
   "cell_type": "code",
   "execution_count": 355,
   "id": "f09320c8-be58-4de9-b356-f12401f25236",
   "metadata": {},
   "outputs": [
    {
     "data": {
      "text/plain": [
       "[{'breed_ID': 'e7e99424-d514-4b56-9f0c-05736f6dd22d', 'diff_weight': 10},\n",
       " {'breed_ID': '5328d59b-b4e4-48e9-98ec-0545c66c4385', 'diff_weight': 5},\n",
       " {'breed_ID': 'f72528b5-a5d7-4a17-b709-aba2db722307', 'diff_weight': 5},\n",
       " {'breed_ID': '1460844f-841c-4de8-b788-271aa4d63224', 'diff_weight': 3},\n",
       " {'breed_ID': 'dd9362cc-52e0-462d-b856-fccdcf24b140', 'diff_weight': 2}]"
      ]
     },
     "execution_count": 355,
     "metadata": {},
     "output_type": "execute_result"
    }
   ],
   "source": [
    "# Sort by 'diff_weight' in descending order\n",
    "sorted_max_differential_dict = sorted(max_differential_dict, key=lambda x: x['diff_weight'], reverse=True) #lambda is a nonname function\n",
    "sorted_max_differential_dict[:5]"
   ]
  },
  {
   "cell_type": "code",
   "execution_count": null,
   "id": "edcabebd-8e0c-435f-ba21-bcb75a7c2973",
   "metadata": {},
   "outputs": [],
   "source": [
    "#In: Single element of list (dict in this case)\n",
    "#Out: Num to sort the list (the order of the list) "
   ]
  },
  {
   "cell_type": "code",
   "execution_count": 341,
   "id": "d963223c-660f-4494-b5c3-f628d0a9bd6e",
   "metadata": {},
   "outputs": [],
   "source": [
    "def listElement_to_singleNum(dict):\n",
    "    \n",
    "    diff_weight = dict[\"diff_weight\"]\n",
    "\n",
    "    return diff_weight"
   ]
  },
  {
   "cell_type": "code",
   "execution_count": 349,
   "id": "0358baa4-f876-4961-94aa-4d3740de934e",
   "metadata": {},
   "outputs": [
    {
     "data": {
      "text/plain": [
       "[{'breed_ID': 'e7e99424-d514-4b56-9f0c-05736f6dd22d', 'diff_weight': 10},\n",
       " {'breed_ID': '5328d59b-b4e4-48e9-98ec-0545c66c4385', 'diff_weight': 5},\n",
       " {'breed_ID': 'f72528b5-a5d7-4a17-b709-aba2db722307', 'diff_weight': 5},\n",
       " {'breed_ID': '1460844f-841c-4de8-b788-271aa4d63224', 'diff_weight': 3},\n",
       " {'breed_ID': 'dd9362cc-52e0-462d-b856-fccdcf24b140', 'diff_weight': 2}]"
      ]
     },
     "execution_count": 349,
     "metadata": {},
     "output_type": "execute_result"
    }
   ],
   "source": [
    "sorted_max_differential_dict = sorted(max_differential_dict,key=listElement_to_singleNum,reverse=True)\n",
    "sorted_max_differential_dict[:5]"
   ]
  },
  {
   "cell_type": "markdown",
   "id": "90f39d6e-a262-472d-93f8-9a5ac9ca0455",
   "metadata": {},
   "source": [
    "## Public API Example #5\n",
    "#### Paginated APIs \n",
    "Common to not return all of the data at once so need to pagninate through the API (can see if paginated if there are links at the bottom)\n",
    "\n",
    "Q: Paginate through the entire breeds API and return the name of every breed that starts with A, B, or C"
   ]
  },
  {
   "cell_type": "code",
   "execution_count": 384,
   "id": "c2da30bd-1cfb-45db-87d3-de8ab51eb6bf",
   "metadata": {},
   "outputs": [],
   "source": [
    "pg_num = 2"
   ]
  },
  {
   "cell_type": "code",
   "execution_count": 386,
   "id": "fd433e20-2c0b-4fa1-9f10-cbac85a11faf",
   "metadata": {},
   "outputs": [],
   "source": [
    "#Get JSON Response /breeds?page[number]=2 --> getting the next page\n",
    "headers = {\n",
    "    'accept': 'application/json' #what type of response I accept\n",
    "}\n",
    "\n",
    "params = { #query parameters [AFTER the Question Mark!] \n",
    "    'page[number]': pg_num \n",
    "}\n",
    "\n",
    "response = requests.get( #get requests dont have bodies\n",
    "    'https://dogapi.dog/api/v2/breeds',\n",
    "    params = params,\n",
    "    headers = headers\n",
    ")\n",
    "\n",
    "json_response_breed = response.json()"
   ]
  },
  {
   "cell_type": "code",
   "execution_count": 397,
   "id": "99635b58-4c49-4705-b53d-4007a9dc5825",
   "metadata": {},
   "outputs": [
    {
     "data": {
      "text/plain": [
       "[1, 2, 3, 4]"
      ]
     },
     "execution_count": 397,
     "metadata": {},
     "output_type": "execute_result"
    }
   ],
   "source": [
    "pagninated_API_responses = [] #list of each page's API responses\n",
    "\n",
    "page_numbers = [] #list of all page numbers need to paginate through\n",
    "page_numbers = list(range(1,5))"
   ]
  },
  {
   "cell_type": "markdown",
   "id": "295c08cb-5e67-411c-9c26-43d41bd8eb1e",
   "metadata": {},
   "source": [
    "#### 1) Put all Paginated JSON responses in a list"
   ]
  },
  {
   "cell_type": "code",
   "execution_count": 399,
   "id": "67aef7d8-bc0c-4bf2-a293-bdfe6f8a4483",
   "metadata": {},
   "outputs": [],
   "source": [
    "for pg_num in page_numbers:\n",
    "\n",
    "    #Get JSON Response /breeds?page[number]=2 --> getting the next page\n",
    "    headers = {\n",
    "        'accept': 'application/json' #what type of response I accept\n",
    "    }\n",
    "\n",
    "    params = { #query parameters [AFTER the Question Mark!] \n",
    "        'page[number]': pg_num \n",
    "    }\n",
    "\n",
    "    response = requests.get( #get requests dont have bodies\n",
    "        'https://dogapi.dog/api/v2/breeds',\n",
    "        params = params,\n",
    "        headers = headers\n",
    "    )\n",
    "\n",
    "    json_response_breed = response.json()\n",
    "\n",
    "    pagninated_API_responses.append(json_response_breed)"
   ]
  },
  {
   "cell_type": "code",
   "execution_count": 489,
   "id": "e57c96c1-db05-4bfd-a9ec-2cf880494365",
   "metadata": {},
   "outputs": [],
   "source": [
    "#Do for one example"
   ]
  },
  {
   "cell_type": "code",
   "execution_count": 427,
   "id": "38ff20a2-6589-491b-942c-a6e20894cb7e",
   "metadata": {},
   "outputs": [
    {
     "data": {
      "text/plain": [
       "{'id': '036feed0-da8a-42c9-ab9a-57449b530b13',\n",
       " 'type': 'breed',\n",
       " 'attributes': {'name': 'Affenpinscher',\n",
       "  'description': 'The Affenpinscher is a small and playful breed of dog that was originally bred in Germany for hunting small game. They are intelligent, energetic, and affectionate, and make excellent companion dogs.',\n",
       "  'life': {'max': 16, 'min': 14},\n",
       "  'male_weight': {'max': 5, 'min': 3},\n",
       "  'female_weight': {'max': 5, 'min': 3},\n",
       "  'hypoallergenic': True},\n",
       " 'relationships': {'group': {'data': {'id': 'f56dc4b1-ba1a-4454-8ce2-bd5d41404a0c',\n",
       "    'type': 'group'}}}}"
      ]
     },
     "execution_count": 427,
     "metadata": {},
     "output_type": "execute_result"
    }
   ],
   "source": [
    "pagninated_API_responses[0][\"data\"][0]"
   ]
  },
  {
   "cell_type": "code",
   "execution_count": 415,
   "id": "6890edb2-bd51-4313-a8ac-a05f27a16972",
   "metadata": {},
   "outputs": [
    {
     "data": {
      "text/plain": [
       "'Affenpinscher'"
      ]
     },
     "execution_count": 415,
     "metadata": {},
     "output_type": "execute_result"
    }
   ],
   "source": [
    "pagninated_API_responses[0][\"data\"][0][\"attributes\"][\"name\"]"
   ]
  },
  {
   "cell_type": "markdown",
   "id": "6a187350-710d-4baf-b6a4-5ce516645ba4",
   "metadata": {},
   "source": [
    "#### 2) Define Function to return list of matched names from one JSON paginated response"
   ]
  },
  {
   "cell_type": "code",
   "execution_count": 469,
   "id": "389df74f-8d2a-4253-a1be-491ba169b52e",
   "metadata": {},
   "outputs": [],
   "source": [
    "def names_in_one_page(one_page_json_response):\n",
    "\n",
    "    list_of_matched_names = []\n",
    "\n",
    "    for obj in one_page_json_response[\"data\"]:\n",
    "\n",
    "        #Get name of specific breed\n",
    "        name = obj[\"attributes\"][\"name\"]\n",
    "\n",
    "        #Check if name is STARTS WITH A,B,C (if so, append to list)\n",
    "        if name.startswith(\"A\") or name.startswith(\"B\") or name.startswith(\"C\"):\n",
    "            list_of_matched_names.append(name)\n",
    "\n",
    "    return list_of_matched_names"
   ]
  },
  {
   "cell_type": "code",
   "execution_count": 485,
   "id": "f6ea3c4f-0159-43ba-a788-548830dadb08",
   "metadata": {},
   "outputs": [],
   "source": [
    "one_page_example = pagninated_API_responses[3]"
   ]
  },
  {
   "cell_type": "code",
   "execution_count": 487,
   "id": "6ee760e8-4ada-4f7e-96b9-c2eb58eedafd",
   "metadata": {},
   "outputs": [
    {
     "data": {
      "text/plain": [
       "['Beauceron',\n",
       " 'Bedlington Terrier',\n",
       " 'Belgian Laekenois',\n",
       " 'Belgian Malinois',\n",
       " 'Belgian Sheepdog',\n",
       " 'Belgian Tervuren',\n",
       " 'Bergamasco Sheepdog',\n",
       " 'Berger Picard',\n",
       " 'Bernese Mountain Dog',\n",
       " 'Bichon Frise']"
      ]
     },
     "execution_count": 487,
     "metadata": {},
     "output_type": "execute_result"
    }
   ],
   "source": [
    "names_in_one_page(one_page_example)"
   ]
  },
  {
   "cell_type": "markdown",
   "id": "181613d2-c292-48ba-a3d1-480c67f85892",
   "metadata": {},
   "source": [
    "#### 3) Loop Over all Paginated API Responses"
   ]
  },
  {
   "cell_type": "code",
   "execution_count": 509,
   "id": "655f9b45-c69c-4931-8e39-c0f2b3ec7ae8",
   "metadata": {},
   "outputs": [],
   "source": [
    "all_matched_names = []\n",
    "\n",
    "for one_response in pagninated_API_responses:\n",
    "\n",
    "    #Get associated matched names in that page response\n",
    "    names = names_in_one_page(one_response)\n",
    "\n",
    "    all_matched_names.append(names)"
   ]
  },
  {
   "cell_type": "code",
   "execution_count": 511,
   "id": "d1e2cc02-fb15-4571-baaa-7253845d36b5",
   "metadata": {},
   "outputs": [
    {
     "data": {
      "text/plain": [
       "[['Affenpinscher',\n",
       "  'Afghan Hound',\n",
       "  'Airedale Terrier',\n",
       "  'Akita',\n",
       "  'Alaskan Klee Kai',\n",
       "  'Alaskan Malamute',\n",
       "  'American Bulldog',\n",
       "  'American English Coonhound',\n",
       "  'American Eskimo Dog',\n",
       "  'American Foxhound'],\n",
       " ['American Hairless Terrier',\n",
       "  'American Leopard Hound',\n",
       "  'American Staffordshire Terrier',\n",
       "  'American Water Spaniel',\n",
       "  'Anatolian Shepherd Dog',\n",
       "  'Appenzeller Sennenhund',\n",
       "  'Australian Cattle Dog',\n",
       "  'Australian Kelpie',\n",
       "  'Australian Shepherd',\n",
       "  'Australian Stumpy Tail Cattle Dog'],\n",
       " ['Australian Terrier',\n",
       "  'Azawakh',\n",
       "  'Barbado da Terceira',\n",
       "  'Barbet',\n",
       "  'Basenji',\n",
       "  'Basset Fauve de Bretagne',\n",
       "  'Basset Hound',\n",
       "  'Bavarian Mountain Scent Houn',\n",
       "  'Beagle',\n",
       "  'Bearded Collie'],\n",
       " ['Beauceron',\n",
       "  'Bedlington Terrier',\n",
       "  'Belgian Laekenois',\n",
       "  'Belgian Malinois',\n",
       "  'Belgian Sheepdog',\n",
       "  'Belgian Tervuren',\n",
       "  'Bergamasco Sheepdog',\n",
       "  'Berger Picard',\n",
       "  'Bernese Mountain Dog',\n",
       "  'Bichon Frise']]"
      ]
     },
     "execution_count": 511,
     "metadata": {},
     "output_type": "execute_result"
    }
   ],
   "source": [
    "all_matched_names"
   ]
  },
  {
   "cell_type": "markdown",
   "id": "b8a1a7a2-22b6-49ad-ab34-396831c6b984",
   "metadata": {},
   "source": [
    "#### 4) Flatten the List"
   ]
  },
  {
   "cell_type": "code",
   "execution_count": 503,
   "id": "aa06f4e5-6f3c-498c-9ff7-39a76f8b31a6",
   "metadata": {},
   "outputs": [],
   "source": [
    "#Flatten list\n",
    "def flatten(list_of_lists):\n",
    "\n",
    "    one_list = []\n",
    "\n",
    "    for list in list_of_lists:\n",
    "        for element in list:\n",
    "            one_list.append(element) \n",
    "\n",
    "    return one_list"
   ]
  },
  {
   "cell_type": "code",
   "execution_count": 513,
   "id": "f74fd31f-cf9e-4acf-8142-cdf823d5be50",
   "metadata": {},
   "outputs": [
    {
     "data": {
      "text/plain": [
       "['Affenpinscher',\n",
       " 'Afghan Hound',\n",
       " 'Airedale Terrier',\n",
       " 'Akita',\n",
       " 'Alaskan Klee Kai',\n",
       " 'Alaskan Malamute',\n",
       " 'American Bulldog',\n",
       " 'American English Coonhound',\n",
       " 'American Eskimo Dog',\n",
       " 'American Foxhound',\n",
       " 'American Hairless Terrier',\n",
       " 'American Leopard Hound',\n",
       " 'American Staffordshire Terrier',\n",
       " 'American Water Spaniel',\n",
       " 'Anatolian Shepherd Dog',\n",
       " 'Appenzeller Sennenhund',\n",
       " 'Australian Cattle Dog',\n",
       " 'Australian Kelpie',\n",
       " 'Australian Shepherd',\n",
       " 'Australian Stumpy Tail Cattle Dog',\n",
       " 'Australian Terrier',\n",
       " 'Azawakh',\n",
       " 'Barbado da Terceira',\n",
       " 'Barbet',\n",
       " 'Basenji',\n",
       " 'Basset Fauve de Bretagne',\n",
       " 'Basset Hound',\n",
       " 'Bavarian Mountain Scent Houn',\n",
       " 'Beagle',\n",
       " 'Bearded Collie',\n",
       " 'Beauceron',\n",
       " 'Bedlington Terrier',\n",
       " 'Belgian Laekenois',\n",
       " 'Belgian Malinois',\n",
       " 'Belgian Sheepdog',\n",
       " 'Belgian Tervuren',\n",
       " 'Bergamasco Sheepdog',\n",
       " 'Berger Picard',\n",
       " 'Bernese Mountain Dog',\n",
       " 'Bichon Frise']"
      ]
     },
     "execution_count": 513,
     "metadata": {},
     "output_type": "execute_result"
    }
   ],
   "source": [
    "one_matched_name_list = flatten(all_matched_names)\n",
    "one_matched_name_list"
   ]
  },
  {
   "cell_type": "markdown",
   "id": "ca11de2d-07ee-4f5a-8c60-a2e1e78bd263",
   "metadata": {},
   "source": [
    "## 6) About API Requests"
   ]
  },
  {
   "cell_type": "markdown",
   "id": "647a831e-e065-49b4-aea8-fa19a6c43aed",
   "metadata": {},
   "source": [
    "##### You can also retrieve the header values not just the body"
   ]
  },
  {
   "cell_type": "code",
   "execution_count": 370,
   "id": "d86dcc8b-1bd5-42af-ba7d-f049f60fd113",
   "metadata": {},
   "outputs": [
    {
     "data": {
      "text/plain": [
       "{'Cache-Control': 'max-age=0, private, must-revalidate', 'Content-Type': 'application/vnd.api+json; charset=utf-8', 'Etag': 'W/\"89cf8ea839da513fb87de5c30d99d688\"', 'Referrer-Policy': 'strict-origin-when-cross-origin', 'Vary': 'Accept, Origin', 'X-Content-Type-Options': 'nosniff', 'X-Download-Options': 'noopen', 'X-Frame-Options': 'SAMEORIGIN', 'X-Permitted-Cross-Domain-Policies': 'none', 'X-Request-Id': '0fb18da6-a309-4bc9-8ef4-c4e5dfca305e', 'X-Runtime': '0.024973', 'X-Xss-Protection': '0', 'Date': 'Wed, 30 Jul 2025 01:55:52 GMT', 'Transfer-Encoding': 'chunked'}"
      ]
     },
     "execution_count": 370,
     "metadata": {},
     "output_type": "execute_result"
    }
   ],
   "source": [
    "json_response_headers = response.headers\n",
    "\n",
    "json_response_headers"
   ]
  },
  {
   "cell_type": "code",
   "execution_count": 379,
   "id": "0d6731ee-a2f7-47e1-bdd5-e41c67281e67",
   "metadata": {},
   "outputs": [
    {
     "name": "stdout",
     "output_type": "stream",
     "text": [
      "{'success': False, 'error': {'code': '2002', 'message': 'invalid license key'}, 'data': {}}\n"
     ]
    }
   ],
   "source": [
    "headers = { #usually includes things like API version #, API KEY\n",
    "    'X-API-KEY': 'xxxxxxxxxxxxx-xxxxxxxxxxxxxxx-xxxxxxxxxxxx'\n",
    "}\n",
    "\n",
    "#params = { #query parameters [AFTER the Question Mark!] \n",
    "#    'page[number]': 2 \n",
    "#}\n",
    "\n",
    "payload = { #this is the body of the request\n",
    "    \"config\": {\n",
    "        \"ip\": {\n",
    "          \"include\": \"flags,history,id\",\n",
    "          \"version\": \"v1\"\n",
    "        },\n",
    "        \"email\": {\n",
    "          \"version\": \"v3\"\n",
    "        },\n",
    "        \"phone\": {\n",
    "          \"version\": \"v2\"\n",
    "        },\n",
    "        \"ip_api\": True,\n",
    "        \"email_api\": True,\n",
    "        \"phone_api\": True,\n",
    "        \"device_fingerprinting\": True\n",
    "      },\n",
    "    \"ip\": \"11.22.33.44\",\n",
    "    \"action_type\": \"application\",\n",
    "    \"user_fullname\": \"John M Smith\",\n",
    "    \"user_firstname\": \"John\",\n",
    "    \"user_middlename\": \"M\",\n",
    "    \"user_lastname\": \"Smith\",\n",
    "    \"user_name\": \"John Smith\",\n",
    "    \"user_dob\": \"1990-01-01\",\n",
    "    \"email\": \"john.smith@example.com\",\n",
    "    \"phone_number\": \"+1234567890\",\n",
    "    \"user_street\": \"123 Main St\",\n",
    "    \"user_street2\": \"Apt 4B\",\n",
    "    \"user_zip\": \"10001\",\n",
    "    \"user_city\": \"New York\",\n",
    "    \"user_region\": \"NY\",\n",
    "    \"user_country\": \"US\",\n",
    "    \"billing_street\": \"123 Main St\",\n",
    "    \"billing_street2\": \"Apt 4B\",\n",
    "    \"billing_zip\": \"10001\",\n",
    "    \"billing_city\": \"New York\",\n",
    "    \"billing_region\": \"NY\",\n",
    "    \"billing_country\": \"US\",\n",
    "    \"billing_phone\": \"+1234567890\",\n",
    "    \"custom_fields\": {\n",
    "        \"ssn\": \"123-45-6789\"\n",
    "  }\n",
    "}\n",
    "\n",
    "response = requests.post(\n",
    "    'https://api.seon.io/SeonRestService/fraud-api/v2',\n",
    "    #params=params,\n",
    "    headers=headers,\n",
    "    data=json.dumps(payload) #body\n",
    ")\n",
    "\n",
    "print(response.json()) #will return error as no API key"
   ]
  },
  {
   "cell_type": "markdown",
   "id": "ce3fed13-c3b7-4f79-a558-793d18874be3",
   "metadata": {},
   "source": [
    "## DataFrames Review"
   ]
  },
  {
   "cell_type": "markdown",
   "id": "0a6b6d53-d4b3-4652-9b16-0a1c897abf07",
   "metadata": {},
   "source": [
    "#### 1) Reading Data into CSV/XLSX"
   ]
  },
  {
   "cell_type": "code",
   "execution_count": 620,
   "id": "4a6cadbb-e5c9-4f57-976e-8858c6557e77",
   "metadata": {},
   "outputs": [],
   "source": [
    "data = {\n",
    "    \"name\": [\"Alice\", \"Bob\", \"Charlie\", \"Diana\", \"Evan\"],\n",
    "    \"age\": [25, 32, 37, 29, 41],\n",
    "    \"city\": [\"NY\", \"LA\", \"NY\", \"SF\", \"LA\"],\n",
    "    \"income\": [5000, 6000, 5500, 7000, 6500]\n",
    "}\n",
    "\n",
    "df = pd.DataFrame(data)"
   ]
  },
  {
   "cell_type": "code",
   "execution_count": null,
   "id": "2fc8b712-ea89-4e63-b60f-656299ff4df6",
   "metadata": {},
   "outputs": [],
   "source": [
    "df = pd.read_csv(\"data.csv\")\n",
    "df = pd.read_excel(\"data.xlsx\", sheet_name=\"Sheet1\")"
   ]
  },
  {
   "cell_type": "markdown",
   "id": "7f7d27f2-81d6-4cf5-b42b-0615ecef4ea7",
   "metadata": {},
   "source": [
    "#### 2) Select & Filter "
   ]
  },
  {
   "cell_type": "code",
   "execution_count": 622,
   "id": "1b7911a6-b896-4a39-8ab1-e667f647b278",
   "metadata": {},
   "outputs": [],
   "source": [
    "#Choose specific columns\n",
    "df2 = df[[\"name\", \"income\"]]"
   ]
  },
  {
   "cell_type": "code",
   "execution_count": 626,
   "id": "de6c166f-c114-4f27-8b00-8e19b50d8912",
   "metadata": {},
   "outputs": [
    {
     "data": {
      "text/html": [
       "<div>\n",
       "<style scoped>\n",
       "    .dataframe tbody tr th:only-of-type {\n",
       "        vertical-align: middle;\n",
       "    }\n",
       "\n",
       "    .dataframe tbody tr th {\n",
       "        vertical-align: top;\n",
       "    }\n",
       "\n",
       "    .dataframe thead th {\n",
       "        text-align: right;\n",
       "    }\n",
       "</style>\n",
       "<table border=\"1\" class=\"dataframe\">\n",
       "  <thead>\n",
       "    <tr style=\"text-align: right;\">\n",
       "      <th></th>\n",
       "      <th>name</th>\n",
       "      <th>age</th>\n",
       "      <th>city</th>\n",
       "      <th>income</th>\n",
       "    </tr>\n",
       "  </thead>\n",
       "  <tbody>\n",
       "    <tr>\n",
       "      <th>2</th>\n",
       "      <td>Charlie</td>\n",
       "      <td>37</td>\n",
       "      <td>NY</td>\n",
       "      <td>5500</td>\n",
       "    </tr>\n",
       "  </tbody>\n",
       "</table>\n",
       "</div>"
      ],
      "text/plain": [
       "      name  age city  income\n",
       "2  Charlie   37   NY    5500"
      ]
     },
     "execution_count": 626,
     "metadata": {},
     "output_type": "execute_result"
    }
   ],
   "source": [
    "#Filter by specific condition\n",
    "df2 = df[(df[\"age\"] > 30) & (df[\"city\"] == \"NY\")] \n",
    "df2"
   ]
  },
  {
   "cell_type": "markdown",
   "id": "8c94b37a-680d-46b7-a2af-49e4a9c4f6bd",
   "metadata": {},
   "source": [
    "#### 3) Add/Rename Columns"
   ]
  },
  {
   "cell_type": "code",
   "execution_count": 628,
   "id": "06df7bc7-7c23-4121-a67d-3ff6c3889dac",
   "metadata": {},
   "outputs": [
    {
     "data": {
      "text/html": [
       "<div>\n",
       "<style scoped>\n",
       "    .dataframe tbody tr th:only-of-type {\n",
       "        vertical-align: middle;\n",
       "    }\n",
       "\n",
       "    .dataframe tbody tr th {\n",
       "        vertical-align: top;\n",
       "    }\n",
       "\n",
       "    .dataframe thead th {\n",
       "        text-align: right;\n",
       "    }\n",
       "</style>\n",
       "<table border=\"1\" class=\"dataframe\">\n",
       "  <thead>\n",
       "    <tr style=\"text-align: right;\">\n",
       "      <th></th>\n",
       "      <th>name</th>\n",
       "      <th>age</th>\n",
       "      <th>city</th>\n",
       "      <th>income</th>\n",
       "      <th>annual_income</th>\n",
       "    </tr>\n",
       "  </thead>\n",
       "  <tbody>\n",
       "    <tr>\n",
       "      <th>0</th>\n",
       "      <td>Alice</td>\n",
       "      <td>25</td>\n",
       "      <td>NY</td>\n",
       "      <td>5000</td>\n",
       "      <td>60000</td>\n",
       "    </tr>\n",
       "    <tr>\n",
       "      <th>1</th>\n",
       "      <td>Bob</td>\n",
       "      <td>32</td>\n",
       "      <td>LA</td>\n",
       "      <td>6000</td>\n",
       "      <td>72000</td>\n",
       "    </tr>\n",
       "    <tr>\n",
       "      <th>2</th>\n",
       "      <td>Charlie</td>\n",
       "      <td>37</td>\n",
       "      <td>NY</td>\n",
       "      <td>5500</td>\n",
       "      <td>66000</td>\n",
       "    </tr>\n",
       "    <tr>\n",
       "      <th>3</th>\n",
       "      <td>Diana</td>\n",
       "      <td>29</td>\n",
       "      <td>SF</td>\n",
       "      <td>7000</td>\n",
       "      <td>84000</td>\n",
       "    </tr>\n",
       "    <tr>\n",
       "      <th>4</th>\n",
       "      <td>Evan</td>\n",
       "      <td>41</td>\n",
       "      <td>LA</td>\n",
       "      <td>6500</td>\n",
       "      <td>78000</td>\n",
       "    </tr>\n",
       "  </tbody>\n",
       "</table>\n",
       "</div>"
      ],
      "text/plain": [
       "      name  age city  income  annual_income\n",
       "0    Alice   25   NY    5000          60000\n",
       "1      Bob   32   LA    6000          72000\n",
       "2  Charlie   37   NY    5500          66000\n",
       "3    Diana   29   SF    7000          84000\n",
       "4     Evan   41   LA    6500          78000"
      ]
     },
     "execution_count": 628,
     "metadata": {},
     "output_type": "execute_result"
    }
   ],
   "source": [
    "#Add new column\n",
    "df[\"annual_income\"] = df[\"income\"] * 12\n",
    "df"
   ]
  },
  {
   "cell_type": "code",
   "execution_count": 630,
   "id": "adee5de9-6bd0-423f-847b-98f30c8ef865",
   "metadata": {},
   "outputs": [
    {
     "data": {
      "text/html": [
       "<div>\n",
       "<style scoped>\n",
       "    .dataframe tbody tr th:only-of-type {\n",
       "        vertical-align: middle;\n",
       "    }\n",
       "\n",
       "    .dataframe tbody tr th {\n",
       "        vertical-align: top;\n",
       "    }\n",
       "\n",
       "    .dataframe thead th {\n",
       "        text-align: right;\n",
       "    }\n",
       "</style>\n",
       "<table border=\"1\" class=\"dataframe\">\n",
       "  <thead>\n",
       "    <tr style=\"text-align: right;\">\n",
       "      <th></th>\n",
       "      <th>first_name</th>\n",
       "      <th>age</th>\n",
       "      <th>city</th>\n",
       "      <th>mo_income</th>\n",
       "      <th>annual_income</th>\n",
       "    </tr>\n",
       "  </thead>\n",
       "  <tbody>\n",
       "    <tr>\n",
       "      <th>0</th>\n",
       "      <td>Alice</td>\n",
       "      <td>25</td>\n",
       "      <td>NY</td>\n",
       "      <td>5000</td>\n",
       "      <td>60000</td>\n",
       "    </tr>\n",
       "    <tr>\n",
       "      <th>1</th>\n",
       "      <td>Bob</td>\n",
       "      <td>32</td>\n",
       "      <td>LA</td>\n",
       "      <td>6000</td>\n",
       "      <td>72000</td>\n",
       "    </tr>\n",
       "    <tr>\n",
       "      <th>2</th>\n",
       "      <td>Charlie</td>\n",
       "      <td>37</td>\n",
       "      <td>NY</td>\n",
       "      <td>5500</td>\n",
       "      <td>66000</td>\n",
       "    </tr>\n",
       "    <tr>\n",
       "      <th>3</th>\n",
       "      <td>Diana</td>\n",
       "      <td>29</td>\n",
       "      <td>SF</td>\n",
       "      <td>7000</td>\n",
       "      <td>84000</td>\n",
       "    </tr>\n",
       "    <tr>\n",
       "      <th>4</th>\n",
       "      <td>Evan</td>\n",
       "      <td>41</td>\n",
       "      <td>LA</td>\n",
       "      <td>6500</td>\n",
       "      <td>78000</td>\n",
       "    </tr>\n",
       "  </tbody>\n",
       "</table>\n",
       "</div>"
      ],
      "text/plain": [
       "  first_name  age city  mo_income  annual_income\n",
       "0      Alice   25   NY       5000          60000\n",
       "1        Bob   32   LA       6000          72000\n",
       "2    Charlie   37   NY       5500          66000\n",
       "3      Diana   29   SF       7000          84000\n",
       "4       Evan   41   LA       6500          78000"
      ]
     },
     "execution_count": 630,
     "metadata": {},
     "output_type": "execute_result"
    }
   ],
   "source": [
    "#Rename Columns\n",
    "df = df.rename(columns={'name': 'first_name', 'income': 'mo_income'})\n",
    "df"
   ]
  },
  {
   "cell_type": "markdown",
   "id": "d4ab8f43-4700-4ec2-be88-53b969e810cd",
   "metadata": {},
   "source": [
    "#### 4) Apply Functions"
   ]
  },
  {
   "cell_type": "code",
   "execution_count": 634,
   "id": "88c258b4-8cc6-4a40-ab9b-9d97a56798ef",
   "metadata": {},
   "outputs": [
    {
     "data": {
      "text/html": [
       "<div>\n",
       "<style scoped>\n",
       "    .dataframe tbody tr th:only-of-type {\n",
       "        vertical-align: middle;\n",
       "    }\n",
       "\n",
       "    .dataframe tbody tr th {\n",
       "        vertical-align: top;\n",
       "    }\n",
       "\n",
       "    .dataframe thead th {\n",
       "        text-align: right;\n",
       "    }\n",
       "</style>\n",
       "<table border=\"1\" class=\"dataframe\">\n",
       "  <thead>\n",
       "    <tr style=\"text-align: right;\">\n",
       "      <th></th>\n",
       "      <th>first_name</th>\n",
       "      <th>age</th>\n",
       "      <th>city</th>\n",
       "      <th>mo_income</th>\n",
       "      <th>annual_income</th>\n",
       "      <th>name_length</th>\n",
       "    </tr>\n",
       "  </thead>\n",
       "  <tbody>\n",
       "    <tr>\n",
       "      <th>0</th>\n",
       "      <td>Alice</td>\n",
       "      <td>25</td>\n",
       "      <td>NY</td>\n",
       "      <td>5000</td>\n",
       "      <td>60000</td>\n",
       "      <td>5</td>\n",
       "    </tr>\n",
       "    <tr>\n",
       "      <th>1</th>\n",
       "      <td>Bob</td>\n",
       "      <td>32</td>\n",
       "      <td>LA</td>\n",
       "      <td>6000</td>\n",
       "      <td>72000</td>\n",
       "      <td>3</td>\n",
       "    </tr>\n",
       "    <tr>\n",
       "      <th>2</th>\n",
       "      <td>Charlie</td>\n",
       "      <td>37</td>\n",
       "      <td>NY</td>\n",
       "      <td>5500</td>\n",
       "      <td>66000</td>\n",
       "      <td>7</td>\n",
       "    </tr>\n",
       "    <tr>\n",
       "      <th>3</th>\n",
       "      <td>Diana</td>\n",
       "      <td>29</td>\n",
       "      <td>SF</td>\n",
       "      <td>7000</td>\n",
       "      <td>84000</td>\n",
       "      <td>5</td>\n",
       "    </tr>\n",
       "    <tr>\n",
       "      <th>4</th>\n",
       "      <td>Evan</td>\n",
       "      <td>41</td>\n",
       "      <td>LA</td>\n",
       "      <td>6500</td>\n",
       "      <td>78000</td>\n",
       "      <td>4</td>\n",
       "    </tr>\n",
       "  </tbody>\n",
       "</table>\n",
       "</div>"
      ],
      "text/plain": [
       "  first_name  age city  mo_income  annual_income  name_length\n",
       "0      Alice   25   NY       5000          60000            5\n",
       "1        Bob   32   LA       6000          72000            3\n",
       "2    Charlie   37   NY       5500          66000            7\n",
       "3      Diana   29   SF       7000          84000            5\n",
       "4       Evan   41   LA       6500          78000            4"
      ]
     },
     "execution_count": 634,
     "metadata": {},
     "output_type": "execute_result"
    }
   ],
   "source": [
    "#Column wise\n",
    "df[\"name_length\"] = df[\"first_name\"].apply(len)\n",
    "df"
   ]
  },
  {
   "cell_type": "code",
   "execution_count": 644,
   "id": "39a76d9a-026b-40bf-a1e0-40cfc0a4156b",
   "metadata": {},
   "outputs": [
    {
     "data": {
      "text/html": [
       "<div>\n",
       "<style scoped>\n",
       "    .dataframe tbody tr th:only-of-type {\n",
       "        vertical-align: middle;\n",
       "    }\n",
       "\n",
       "    .dataframe tbody tr th {\n",
       "        vertical-align: top;\n",
       "    }\n",
       "\n",
       "    .dataframe thead th {\n",
       "        text-align: right;\n",
       "    }\n",
       "</style>\n",
       "<table border=\"1\" class=\"dataframe\">\n",
       "  <thead>\n",
       "    <tr style=\"text-align: right;\">\n",
       "      <th></th>\n",
       "      <th>first_name</th>\n",
       "      <th>age</th>\n",
       "      <th>city</th>\n",
       "      <th>mo_income</th>\n",
       "      <th>annual_income</th>\n",
       "      <th>name_length</th>\n",
       "      <th>age_plus_income</th>\n",
       "    </tr>\n",
       "  </thead>\n",
       "  <tbody>\n",
       "    <tr>\n",
       "      <th>0</th>\n",
       "      <td>Alice</td>\n",
       "      <td>25</td>\n",
       "      <td>NY</td>\n",
       "      <td>5000</td>\n",
       "      <td>60000</td>\n",
       "      <td>5</td>\n",
       "      <td>5025</td>\n",
       "    </tr>\n",
       "    <tr>\n",
       "      <th>1</th>\n",
       "      <td>Bob</td>\n",
       "      <td>32</td>\n",
       "      <td>LA</td>\n",
       "      <td>6000</td>\n",
       "      <td>72000</td>\n",
       "      <td>3</td>\n",
       "      <td>6032</td>\n",
       "    </tr>\n",
       "    <tr>\n",
       "      <th>2</th>\n",
       "      <td>Charlie</td>\n",
       "      <td>37</td>\n",
       "      <td>NY</td>\n",
       "      <td>5500</td>\n",
       "      <td>66000</td>\n",
       "      <td>7</td>\n",
       "      <td>5537</td>\n",
       "    </tr>\n",
       "    <tr>\n",
       "      <th>3</th>\n",
       "      <td>Diana</td>\n",
       "      <td>29</td>\n",
       "      <td>SF</td>\n",
       "      <td>7000</td>\n",
       "      <td>84000</td>\n",
       "      <td>5</td>\n",
       "      <td>7029</td>\n",
       "    </tr>\n",
       "    <tr>\n",
       "      <th>4</th>\n",
       "      <td>Evan</td>\n",
       "      <td>41</td>\n",
       "      <td>LA</td>\n",
       "      <td>6500</td>\n",
       "      <td>78000</td>\n",
       "      <td>4</td>\n",
       "      <td>6541</td>\n",
       "    </tr>\n",
       "  </tbody>\n",
       "</table>\n",
       "</div>"
      ],
      "text/plain": [
       "  first_name  age city  mo_income  annual_income  name_length  age_plus_income\n",
       "0      Alice   25   NY       5000          60000            5             5025\n",
       "1        Bob   32   LA       6000          72000            3             6032\n",
       "2    Charlie   37   NY       5500          66000            7             5537\n",
       "3      Diana   29   SF       7000          84000            5             7029\n",
       "4       Evan   41   LA       6500          78000            4             6541"
      ]
     },
     "execution_count": 644,
     "metadata": {},
     "output_type": "execute_result"
    }
   ],
   "source": [
    "#Row wise\n",
    "#df[\"age_plus_income\"] = df.apply(lambda row: row[\"age\"] + row[\"mo_income\"], axis=1)\n",
    "df[\"age_plus_income\"] = df[\"age\"] + df[\"mo_income\"]\n",
    "df"
   ]
  },
  {
   "cell_type": "markdown",
   "id": "e9ba7255-dfd6-496e-891e-9424a7961f36",
   "metadata": {},
   "source": [
    "#### 5) Group and Aggregate"
   ]
  },
  {
   "cell_type": "code",
   "execution_count": 652,
   "id": "cc4ae679-1880-4863-ba0a-0918a2738648",
   "metadata": {},
   "outputs": [
    {
     "data": {
      "text/plain": [
       "city\n",
       "LA    6250.0\n",
       "NY    5250.0\n",
       "SF    7000.0\n",
       "Name: mo_income, dtype: float64"
      ]
     },
     "execution_count": 652,
     "metadata": {},
     "output_type": "execute_result"
    }
   ],
   "source": [
    "#GROUP BY\n",
    "df.groupby(\"city\")[\"mo_income\"].mean()"
   ]
  },
  {
   "cell_type": "code",
   "execution_count": 660,
   "id": "7d8c7478-e5a2-4220-b9d6-13a6ae7e0e8e",
   "metadata": {},
   "outputs": [
    {
     "data": {
      "text/plain": [
       "sum     30000.0\n",
       "mean     6000.0\n",
       "Name: mo_income, dtype: float64"
      ]
     },
     "execution_count": 660,
     "metadata": {},
     "output_type": "execute_result"
    }
   ],
   "source": [
    "#Aggs\n",
    "result = df[\"mo_income\"].aggregate(['sum', 'mean'])\n",
    "result"
   ]
  },
  {
   "cell_type": "code",
   "execution_count": 662,
   "id": "0921e132-f5d0-4941-8cbf-12bb31f5f0ed",
   "metadata": {},
   "outputs": [
    {
     "data": {
      "text/html": [
       "<div>\n",
       "<style scoped>\n",
       "    .dataframe tbody tr th:only-of-type {\n",
       "        vertical-align: middle;\n",
       "    }\n",
       "\n",
       "    .dataframe tbody tr th {\n",
       "        vertical-align: top;\n",
       "    }\n",
       "\n",
       "    .dataframe thead tr th {\n",
       "        text-align: left;\n",
       "    }\n",
       "</style>\n",
       "<table border=\"1\" class=\"dataframe\">\n",
       "  <thead>\n",
       "    <tr>\n",
       "      <th></th>\n",
       "      <th>city</th>\n",
       "      <th colspan=\"2\" halign=\"left\">mo_income</th>\n",
       "      <th>age</th>\n",
       "    </tr>\n",
       "    <tr>\n",
       "      <th></th>\n",
       "      <th></th>\n",
       "      <th>mean</th>\n",
       "      <th>max</th>\n",
       "      <th>count</th>\n",
       "    </tr>\n",
       "  </thead>\n",
       "  <tbody>\n",
       "    <tr>\n",
       "      <th>0</th>\n",
       "      <td>LA</td>\n",
       "      <td>6250.0</td>\n",
       "      <td>6500</td>\n",
       "      <td>2</td>\n",
       "    </tr>\n",
       "    <tr>\n",
       "      <th>1</th>\n",
       "      <td>NY</td>\n",
       "      <td>5250.0</td>\n",
       "      <td>5500</td>\n",
       "      <td>2</td>\n",
       "    </tr>\n",
       "    <tr>\n",
       "      <th>2</th>\n",
       "      <td>SF</td>\n",
       "      <td>7000.0</td>\n",
       "      <td>7000</td>\n",
       "      <td>1</td>\n",
       "    </tr>\n",
       "  </tbody>\n",
       "</table>\n",
       "</div>"
      ],
      "text/plain": [
       "  city mo_income         age\n",
       "            mean   max count\n",
       "0   LA    6250.0  6500     2\n",
       "1   NY    5250.0  5500     2\n",
       "2   SF    7000.0  7000     1"
      ]
     },
     "execution_count": 662,
     "metadata": {},
     "output_type": "execute_result"
    }
   ],
   "source": [
    "\n",
    "results2 = df.groupby(\"city\").agg({\n",
    "                \"mo_income\": [\"mean\", \"max\"],\n",
    "                \"age\": \"count\"\n",
    "            }).reset_index()\n",
    "results2"
   ]
  },
  {
   "cell_type": "markdown",
   "id": "1230aa9e-9fa9-45a3-8b62-d53b1dd3d159",
   "metadata": {},
   "source": [
    "#### 6) Sort"
   ]
  },
  {
   "cell_type": "code",
   "execution_count": 648,
   "id": "c050a01e-9f6e-457f-8a73-50d845d270f8",
   "metadata": {},
   "outputs": [
    {
     "data": {
      "text/html": [
       "<div>\n",
       "<style scoped>\n",
       "    .dataframe tbody tr th:only-of-type {\n",
       "        vertical-align: middle;\n",
       "    }\n",
       "\n",
       "    .dataframe tbody tr th {\n",
       "        vertical-align: top;\n",
       "    }\n",
       "\n",
       "    .dataframe thead th {\n",
       "        text-align: right;\n",
       "    }\n",
       "</style>\n",
       "<table border=\"1\" class=\"dataframe\">\n",
       "  <thead>\n",
       "    <tr style=\"text-align: right;\">\n",
       "      <th></th>\n",
       "      <th>first_name</th>\n",
       "      <th>age</th>\n",
       "      <th>city</th>\n",
       "      <th>mo_income</th>\n",
       "      <th>annual_income</th>\n",
       "      <th>name_length</th>\n",
       "      <th>age_plus_income</th>\n",
       "    </tr>\n",
       "  </thead>\n",
       "  <tbody>\n",
       "    <tr>\n",
       "      <th>3</th>\n",
       "      <td>Diana</td>\n",
       "      <td>29</td>\n",
       "      <td>SF</td>\n",
       "      <td>7000</td>\n",
       "      <td>84000</td>\n",
       "      <td>5</td>\n",
       "      <td>7029</td>\n",
       "    </tr>\n",
       "    <tr>\n",
       "      <th>4</th>\n",
       "      <td>Evan</td>\n",
       "      <td>41</td>\n",
       "      <td>LA</td>\n",
       "      <td>6500</td>\n",
       "      <td>78000</td>\n",
       "      <td>4</td>\n",
       "      <td>6541</td>\n",
       "    </tr>\n",
       "    <tr>\n",
       "      <th>1</th>\n",
       "      <td>Bob</td>\n",
       "      <td>32</td>\n",
       "      <td>LA</td>\n",
       "      <td>6000</td>\n",
       "      <td>72000</td>\n",
       "      <td>3</td>\n",
       "      <td>6032</td>\n",
       "    </tr>\n",
       "    <tr>\n",
       "      <th>2</th>\n",
       "      <td>Charlie</td>\n",
       "      <td>37</td>\n",
       "      <td>NY</td>\n",
       "      <td>5500</td>\n",
       "      <td>66000</td>\n",
       "      <td>7</td>\n",
       "      <td>5537</td>\n",
       "    </tr>\n",
       "    <tr>\n",
       "      <th>0</th>\n",
       "      <td>Alice</td>\n",
       "      <td>25</td>\n",
       "      <td>NY</td>\n",
       "      <td>5000</td>\n",
       "      <td>60000</td>\n",
       "      <td>5</td>\n",
       "      <td>5025</td>\n",
       "    </tr>\n",
       "  </tbody>\n",
       "</table>\n",
       "</div>"
      ],
      "text/plain": [
       "  first_name  age city  mo_income  annual_income  name_length  age_plus_income\n",
       "3      Diana   29   SF       7000          84000            5             7029\n",
       "4       Evan   41   LA       6500          78000            4             6541\n",
       "1        Bob   32   LA       6000          72000            3             6032\n",
       "2    Charlie   37   NY       5500          66000            7             5537\n",
       "0      Alice   25   NY       5000          60000            5             5025"
      ]
     },
     "execution_count": 648,
     "metadata": {},
     "output_type": "execute_result"
    }
   ],
   "source": [
    "df = df.sort_values(by=\"mo_income\", ascending=False)\n",
    "df"
   ]
  },
  {
   "cell_type": "markdown",
   "id": "85a7b5e4-6e41-497f-8170-f8ede226d66c",
   "metadata": {},
   "source": [
    "#### 7) Join DFs"
   ]
  },
  {
   "cell_type": "code",
   "execution_count": 666,
   "id": "2e50f24b-cce9-40ea-9f02-e08823219c69",
   "metadata": {},
   "outputs": [
    {
     "data": {
      "text/html": [
       "<div>\n",
       "<style scoped>\n",
       "    .dataframe tbody tr th:only-of-type {\n",
       "        vertical-align: middle;\n",
       "    }\n",
       "\n",
       "    .dataframe tbody tr th {\n",
       "        vertical-align: top;\n",
       "    }\n",
       "\n",
       "    .dataframe thead th {\n",
       "        text-align: right;\n",
       "    }\n",
       "</style>\n",
       "<table border=\"1\" class=\"dataframe\">\n",
       "  <thead>\n",
       "    <tr style=\"text-align: right;\">\n",
       "      <th></th>\n",
       "      <th>city</th>\n",
       "      <th>region</th>\n",
       "    </tr>\n",
       "  </thead>\n",
       "  <tbody>\n",
       "    <tr>\n",
       "      <th>0</th>\n",
       "      <td>NY</td>\n",
       "      <td>East</td>\n",
       "    </tr>\n",
       "    <tr>\n",
       "      <th>1</th>\n",
       "      <td>LA</td>\n",
       "      <td>West</td>\n",
       "    </tr>\n",
       "    <tr>\n",
       "      <th>2</th>\n",
       "      <td>SF</td>\n",
       "      <td>West</td>\n",
       "    </tr>\n",
       "  </tbody>\n",
       "</table>\n",
       "</div>"
      ],
      "text/plain": [
       "  city region\n",
       "0   NY   East\n",
       "1   LA   West\n",
       "2   SF   West"
      ]
     },
     "execution_count": 666,
     "metadata": {},
     "output_type": "execute_result"
    }
   ],
   "source": [
    "city_data = pd.DataFrame({\n",
    "    \"city\": [\"NY\", \"LA\", \"SF\"],\n",
    "    \"region\": [\"East\", \"West\", \"West\"]\n",
    "})\n",
    "city_data"
   ]
  },
  {
   "cell_type": "code",
   "execution_count": 668,
   "id": "96ee6ba0-6843-4706-867a-89f7a957791b",
   "metadata": {},
   "outputs": [
    {
     "data": {
      "text/html": [
       "<div>\n",
       "<style scoped>\n",
       "    .dataframe tbody tr th:only-of-type {\n",
       "        vertical-align: middle;\n",
       "    }\n",
       "\n",
       "    .dataframe tbody tr th {\n",
       "        vertical-align: top;\n",
       "    }\n",
       "\n",
       "    .dataframe thead th {\n",
       "        text-align: right;\n",
       "    }\n",
       "</style>\n",
       "<table border=\"1\" class=\"dataframe\">\n",
       "  <thead>\n",
       "    <tr style=\"text-align: right;\">\n",
       "      <th></th>\n",
       "      <th>first_name</th>\n",
       "      <th>age</th>\n",
       "      <th>city</th>\n",
       "      <th>mo_income</th>\n",
       "      <th>annual_income</th>\n",
       "      <th>name_length</th>\n",
       "      <th>age_plus_income</th>\n",
       "      <th>region</th>\n",
       "    </tr>\n",
       "  </thead>\n",
       "  <tbody>\n",
       "    <tr>\n",
       "      <th>0</th>\n",
       "      <td>Diana</td>\n",
       "      <td>29</td>\n",
       "      <td>SF</td>\n",
       "      <td>7000</td>\n",
       "      <td>84000</td>\n",
       "      <td>5</td>\n",
       "      <td>7029</td>\n",
       "      <td>West</td>\n",
       "    </tr>\n",
       "    <tr>\n",
       "      <th>1</th>\n",
       "      <td>Evan</td>\n",
       "      <td>41</td>\n",
       "      <td>LA</td>\n",
       "      <td>6500</td>\n",
       "      <td>78000</td>\n",
       "      <td>4</td>\n",
       "      <td>6541</td>\n",
       "      <td>West</td>\n",
       "    </tr>\n",
       "    <tr>\n",
       "      <th>2</th>\n",
       "      <td>Bob</td>\n",
       "      <td>32</td>\n",
       "      <td>LA</td>\n",
       "      <td>6000</td>\n",
       "      <td>72000</td>\n",
       "      <td>3</td>\n",
       "      <td>6032</td>\n",
       "      <td>West</td>\n",
       "    </tr>\n",
       "    <tr>\n",
       "      <th>3</th>\n",
       "      <td>Charlie</td>\n",
       "      <td>37</td>\n",
       "      <td>NY</td>\n",
       "      <td>5500</td>\n",
       "      <td>66000</td>\n",
       "      <td>7</td>\n",
       "      <td>5537</td>\n",
       "      <td>East</td>\n",
       "    </tr>\n",
       "    <tr>\n",
       "      <th>4</th>\n",
       "      <td>Alice</td>\n",
       "      <td>25</td>\n",
       "      <td>NY</td>\n",
       "      <td>5000</td>\n",
       "      <td>60000</td>\n",
       "      <td>5</td>\n",
       "      <td>5025</td>\n",
       "      <td>East</td>\n",
       "    </tr>\n",
       "  </tbody>\n",
       "</table>\n",
       "</div>"
      ],
      "text/plain": [
       "  first_name  age city  mo_income  annual_income  name_length  \\\n",
       "0      Diana   29   SF       7000          84000            5   \n",
       "1       Evan   41   LA       6500          78000            4   \n",
       "2        Bob   32   LA       6000          72000            3   \n",
       "3    Charlie   37   NY       5500          66000            7   \n",
       "4      Alice   25   NY       5000          60000            5   \n",
       "\n",
       "   age_plus_income region  \n",
       "0             7029   West  \n",
       "1             6541   West  \n",
       "2             6032   West  \n",
       "3             5537   East  \n",
       "4             5025   East  "
      ]
     },
     "execution_count": 668,
     "metadata": {},
     "output_type": "execute_result"
    }
   ],
   "source": [
    "merged = pd.merge(df, city_data, on=\"city\", how=\"left\")\n",
    "merged"
   ]
  },
  {
   "cell_type": "markdown",
   "id": "9955c753-e5c3-4c59-9753-970300e4c16e",
   "metadata": {},
   "source": [
    "#### 8) Handle Missing Data"
   ]
  },
  {
   "cell_type": "code",
   "execution_count": null,
   "id": "df28c8ab-948a-4bf0-b62d-0e62d49b1b11",
   "metadata": {},
   "outputs": [],
   "source": [
    "df.dropna()   # Drop rows with NaNs\n",
    "df.fillna(0)  # Replace NaNs with 0"
   ]
  },
  {
   "cell_type": "markdown",
   "id": "1f95367e-16d9-4a6d-97b8-3e0969570497",
   "metadata": {},
   "source": [
    "## 7) DF Example\n",
    "\n",
    "#### Q: Find all dates ID with higher temperature compared to its previous dates (yesterday)"
   ]
  },
  {
   "cell_type": "code",
   "execution_count": 599,
   "id": "0615c64a-c822-4c2b-8d7e-b3c2f9a4d601",
   "metadata": {},
   "outputs": [
    {
     "data": {
      "text/html": [
       "<div>\n",
       "<style scoped>\n",
       "    .dataframe tbody tr th:only-of-type {\n",
       "        vertical-align: middle;\n",
       "    }\n",
       "\n",
       "    .dataframe tbody tr th {\n",
       "        vertical-align: top;\n",
       "    }\n",
       "\n",
       "    .dataframe thead th {\n",
       "        text-align: right;\n",
       "    }\n",
       "</style>\n",
       "<table border=\"1\" class=\"dataframe\">\n",
       "  <thead>\n",
       "    <tr style=\"text-align: right;\">\n",
       "      <th></th>\n",
       "      <th>id</th>\n",
       "      <th>recordDate</th>\n",
       "      <th>temperature</th>\n",
       "    </tr>\n",
       "  </thead>\n",
       "  <tbody>\n",
       "    <tr>\n",
       "      <th>0</th>\n",
       "      <td>1</td>\n",
       "      <td>2015-01-01</td>\n",
       "      <td>10</td>\n",
       "    </tr>\n",
       "    <tr>\n",
       "      <th>1</th>\n",
       "      <td>2</td>\n",
       "      <td>2015-01-02</td>\n",
       "      <td>25</td>\n",
       "    </tr>\n",
       "    <tr>\n",
       "      <th>2</th>\n",
       "      <td>3</td>\n",
       "      <td>2015-01-03</td>\n",
       "      <td>20</td>\n",
       "    </tr>\n",
       "    <tr>\n",
       "      <th>3</th>\n",
       "      <td>4</td>\n",
       "      <td>2015-01-04</td>\n",
       "      <td>30</td>\n",
       "    </tr>\n",
       "  </tbody>\n",
       "</table>\n",
       "</div>"
      ],
      "text/plain": [
       "   id  recordDate  temperature\n",
       "0   1  2015-01-01           10\n",
       "1   2  2015-01-02           25\n",
       "2   3  2015-01-03           20\n",
       "3   4  2015-01-04           30"
      ]
     },
     "execution_count": 599,
     "metadata": {},
     "output_type": "execute_result"
    }
   ],
   "source": [
    "weather = pd.DataFrame({\n",
    "    \"id\": [1, 2, 3, 4],\n",
    "    \"recordDate\": [\"2015-01-01\", \"2015-01-02\", \"2015-01-03\", \"2015-01-04\"],\n",
    "    \"temperature\": [10, 25, 20, 30]\n",
    "})\n",
    "\n",
    "weather"
   ]
  },
  {
   "cell_type": "code",
   "execution_count": 601,
   "id": "16406e9b-a27f-42b2-b566-48e6e59904d1",
   "metadata": {},
   "outputs": [
    {
     "data": {
      "text/html": [
       "<div>\n",
       "<style scoped>\n",
       "    .dataframe tbody tr th:only-of-type {\n",
       "        vertical-align: middle;\n",
       "    }\n",
       "\n",
       "    .dataframe tbody tr th {\n",
       "        vertical-align: top;\n",
       "    }\n",
       "\n",
       "    .dataframe thead th {\n",
       "        text-align: right;\n",
       "    }\n",
       "</style>\n",
       "<table border=\"1\" class=\"dataframe\">\n",
       "  <thead>\n",
       "    <tr style=\"text-align: right;\">\n",
       "      <th></th>\n",
       "      <th>id</th>\n",
       "      <th>recordDate</th>\n",
       "      <th>today_temp</th>\n",
       "    </tr>\n",
       "  </thead>\n",
       "  <tbody>\n",
       "    <tr>\n",
       "      <th>0</th>\n",
       "      <td>1</td>\n",
       "      <td>2015-01-01</td>\n",
       "      <td>10</td>\n",
       "    </tr>\n",
       "    <tr>\n",
       "      <th>1</th>\n",
       "      <td>2</td>\n",
       "      <td>2015-01-02</td>\n",
       "      <td>25</td>\n",
       "    </tr>\n",
       "    <tr>\n",
       "      <th>2</th>\n",
       "      <td>3</td>\n",
       "      <td>2015-01-03</td>\n",
       "      <td>20</td>\n",
       "    </tr>\n",
       "    <tr>\n",
       "      <th>3</th>\n",
       "      <td>4</td>\n",
       "      <td>2015-01-04</td>\n",
       "      <td>30</td>\n",
       "    </tr>\n",
       "  </tbody>\n",
       "</table>\n",
       "</div>"
      ],
      "text/plain": [
       "   id recordDate  today_temp\n",
       "0   1 2015-01-01          10\n",
       "1   2 2015-01-02          25\n",
       "2   3 2015-01-03          20\n",
       "3   4 2015-01-04          30"
      ]
     },
     "execution_count": 601,
     "metadata": {},
     "output_type": "execute_result"
    }
   ],
   "source": [
    "# Ensure the 'recordDate' column is a datetime type\n",
    "weather['recordDate'] = pd.to_datetime(weather['recordDate'])\n",
    "# Rename column\n",
    "weather = weather.rename(columns={'temperature': 'today_temp'})\n",
    "\n",
    "weather"
   ]
  },
  {
   "cell_type": "code",
   "execution_count": 583,
   "id": "eee67e6c-8325-4ba7-8197-60138fb26bea",
   "metadata": {},
   "outputs": [
    {
     "data": {
      "text/html": [
       "<div>\n",
       "<style scoped>\n",
       "    .dataframe tbody tr th:only-of-type {\n",
       "        vertical-align: middle;\n",
       "    }\n",
       "\n",
       "    .dataframe tbody tr th {\n",
       "        vertical-align: top;\n",
       "    }\n",
       "\n",
       "    .dataframe thead th {\n",
       "        text-align: right;\n",
       "    }\n",
       "</style>\n",
       "<table border=\"1\" class=\"dataframe\">\n",
       "  <thead>\n",
       "    <tr style=\"text-align: right;\">\n",
       "      <th></th>\n",
       "      <th>id</th>\n",
       "      <th>recordDate</th>\n",
       "      <th>temperature</th>\n",
       "    </tr>\n",
       "  </thead>\n",
       "  <tbody>\n",
       "    <tr>\n",
       "      <th>0</th>\n",
       "      <td>1</td>\n",
       "      <td>2015-01-02</td>\n",
       "      <td>10</td>\n",
       "    </tr>\n",
       "    <tr>\n",
       "      <th>1</th>\n",
       "      <td>2</td>\n",
       "      <td>2015-01-03</td>\n",
       "      <td>25</td>\n",
       "    </tr>\n",
       "    <tr>\n",
       "      <th>2</th>\n",
       "      <td>3</td>\n",
       "      <td>2015-01-04</td>\n",
       "      <td>20</td>\n",
       "    </tr>\n",
       "    <tr>\n",
       "      <th>3</th>\n",
       "      <td>4</td>\n",
       "      <td>2015-01-05</td>\n",
       "      <td>30</td>\n",
       "    </tr>\n",
       "  </tbody>\n",
       "</table>\n",
       "</div>"
      ],
      "text/plain": [
       "   id recordDate  temperature\n",
       "0   1 2015-01-02           10\n",
       "1   2 2015-01-03           25\n",
       "2   3 2015-01-04           20\n",
       "3   4 2015-01-05           30"
      ]
     },
     "execution_count": 583,
     "metadata": {},
     "output_type": "execute_result"
    }
   ],
   "source": [
    "# Create a copy of the weather DataFrame with a 1 day shift \n",
    "weather_shifted = weather.copy()\n",
    "weather_shifted['recordDate'] = weather_shifted['recordDate'] + pd.to_timedelta(1, unit='D')\n",
    "weather_shifted"
   ]
  },
  {
   "cell_type": "code",
   "execution_count": 587,
   "id": "6933cf08-d305-403b-8924-624c5dc5d6f4",
   "metadata": {},
   "outputs": [
    {
     "data": {
      "text/html": [
       "<div>\n",
       "<style scoped>\n",
       "    .dataframe tbody tr th:only-of-type {\n",
       "        vertical-align: middle;\n",
       "    }\n",
       "\n",
       "    .dataframe tbody tr th {\n",
       "        vertical-align: top;\n",
       "    }\n",
       "\n",
       "    .dataframe thead th {\n",
       "        text-align: right;\n",
       "    }\n",
       "</style>\n",
       "<table border=\"1\" class=\"dataframe\">\n",
       "  <thead>\n",
       "    <tr style=\"text-align: right;\">\n",
       "      <th></th>\n",
       "      <th>id_x</th>\n",
       "      <th>recordDate</th>\n",
       "      <th>temperature_x</th>\n",
       "      <th>id_y</th>\n",
       "      <th>temperature_y</th>\n",
       "    </tr>\n",
       "  </thead>\n",
       "  <tbody>\n",
       "    <tr>\n",
       "      <th>0</th>\n",
       "      <td>2</td>\n",
       "      <td>2015-01-02</td>\n",
       "      <td>25</td>\n",
       "      <td>1</td>\n",
       "      <td>10</td>\n",
       "    </tr>\n",
       "    <tr>\n",
       "      <th>1</th>\n",
       "      <td>3</td>\n",
       "      <td>2015-01-03</td>\n",
       "      <td>20</td>\n",
       "      <td>2</td>\n",
       "      <td>25</td>\n",
       "    </tr>\n",
       "    <tr>\n",
       "      <th>2</th>\n",
       "      <td>4</td>\n",
       "      <td>2015-01-04</td>\n",
       "      <td>30</td>\n",
       "      <td>3</td>\n",
       "      <td>20</td>\n",
       "    </tr>\n",
       "  </tbody>\n",
       "</table>\n",
       "</div>"
      ],
      "text/plain": [
       "   id_x recordDate  temperature_x  id_y  temperature_y\n",
       "0     2 2015-01-02             25     1             10\n",
       "1     3 2015-01-03             20     2             25\n",
       "2     4 2015-01-04             30     3             20"
      ]
     },
     "execution_count": 587,
     "metadata": {},
     "output_type": "execute_result"
    }
   ],
   "source": [
    "merged_df = pd.merge(weather, weather_shifted, on='recordDate')\n",
    "merged_df"
   ]
  },
  {
   "cell_type": "code",
   "execution_count": 585,
   "id": "d952d8bb-66de-4508-ad14-9d1c76014cd1",
   "metadata": {},
   "outputs": [
    {
     "data": {
      "text/html": [
       "<div>\n",
       "<style scoped>\n",
       "    .dataframe tbody tr th:only-of-type {\n",
       "        vertical-align: middle;\n",
       "    }\n",
       "\n",
       "    .dataframe tbody tr th {\n",
       "        vertical-align: top;\n",
       "    }\n",
       "\n",
       "    .dataframe thead th {\n",
       "        text-align: right;\n",
       "    }\n",
       "</style>\n",
       "<table border=\"1\" class=\"dataframe\">\n",
       "  <thead>\n",
       "    <tr style=\"text-align: right;\">\n",
       "      <th></th>\n",
       "      <th>id_today</th>\n",
       "      <th>recordDate</th>\n",
       "      <th>temperature_today</th>\n",
       "      <th>id_yesterday</th>\n",
       "      <th>temperature_yesterday</th>\n",
       "    </tr>\n",
       "  </thead>\n",
       "  <tbody>\n",
       "    <tr>\n",
       "      <th>0</th>\n",
       "      <td>2</td>\n",
       "      <td>2015-01-02</td>\n",
       "      <td>25</td>\n",
       "      <td>1</td>\n",
       "      <td>10</td>\n",
       "    </tr>\n",
       "    <tr>\n",
       "      <th>1</th>\n",
       "      <td>3</td>\n",
       "      <td>2015-01-03</td>\n",
       "      <td>20</td>\n",
       "      <td>2</td>\n",
       "      <td>25</td>\n",
       "    </tr>\n",
       "    <tr>\n",
       "      <th>2</th>\n",
       "      <td>4</td>\n",
       "      <td>2015-01-04</td>\n",
       "      <td>30</td>\n",
       "      <td>3</td>\n",
       "      <td>20</td>\n",
       "    </tr>\n",
       "  </tbody>\n",
       "</table>\n",
       "</div>"
      ],
      "text/plain": [
       "   id_today recordDate  temperature_today  id_yesterday  temperature_yesterday\n",
       "0         2 2015-01-02                 25             1                     10\n",
       "1         3 2015-01-03                 20             2                     25\n",
       "2         4 2015-01-04                 30             3                     20"
      ]
     },
     "execution_count": 585,
     "metadata": {},
     "output_type": "execute_result"
    }
   ],
   "source": [
    "# Merging the DataFrames on the 'recordDate' column to find consecutive dates\n",
    "merged_df = pd.merge(weather, weather_shifted, on='recordDate', suffixes=('_today', '_yesterday'))\n",
    "merged_df"
   ]
  },
  {
   "cell_type": "code",
   "execution_count": 581,
   "id": "457e5b8a-3703-4b35-94da-d95b7ec0cb89",
   "metadata": {},
   "outputs": [
    {
     "data": {
      "text/html": [
       "<div>\n",
       "<style scoped>\n",
       "    .dataframe tbody tr th:only-of-type {\n",
       "        vertical-align: middle;\n",
       "    }\n",
       "\n",
       "    .dataframe tbody tr th {\n",
       "        vertical-align: top;\n",
       "    }\n",
       "\n",
       "    .dataframe thead th {\n",
       "        text-align: right;\n",
       "    }\n",
       "</style>\n",
       "<table border=\"1\" class=\"dataframe\">\n",
       "  <thead>\n",
       "    <tr style=\"text-align: right;\">\n",
       "      <th></th>\n",
       "      <th>Id</th>\n",
       "    </tr>\n",
       "  </thead>\n",
       "  <tbody>\n",
       "    <tr>\n",
       "      <th>0</th>\n",
       "      <td>2</td>\n",
       "    </tr>\n",
       "    <tr>\n",
       "      <th>2</th>\n",
       "      <td>4</td>\n",
       "    </tr>\n",
       "  </tbody>\n",
       "</table>\n",
       "</div>"
      ],
      "text/plain": [
       "   Id\n",
       "0   2\n",
       "2   4"
      ]
     },
     "execution_count": 581,
     "metadata": {},
     "output_type": "execute_result"
    }
   ],
   "source": [
    "# Finding rows where the temperature is greater on the current day compared to the previous day\n",
    "result = merged_df[merged_df['temperature_today'] > merged_df['temperature_yesterday']][['id_today']].rename(columns={'id_today': 'Id'})\n",
    "result"
   ]
  }
 ],
 "metadata": {
  "kernelspec": {
   "display_name": "Python 3 (ipykernel)",
   "language": "python",
   "name": "python3"
  },
  "language_info": {
   "codemirror_mode": {
    "name": "ipython",
    "version": 3
   },
   "file_extension": ".py",
   "mimetype": "text/x-python",
   "name": "python",
   "nbconvert_exporter": "python",
   "pygments_lexer": "ipython3",
   "version": "3.12.4"
  }
 },
 "nbformat": 4,
 "nbformat_minor": 5
}
