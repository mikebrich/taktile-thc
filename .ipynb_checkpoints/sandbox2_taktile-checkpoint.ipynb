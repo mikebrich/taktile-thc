{
 "cells": [
  {
   "cell_type": "markdown",
   "id": "bccd38b4-45ce-4d1f-bd3d-03be623950e8",
   "metadata": {},
   "source": [
    "## Imports"
   ]
  },
  {
   "cell_type": "code",
   "execution_count": 4,
   "id": "85bfa18d-3530-44b8-b36a-84d4712a1cba",
   "metadata": {},
   "outputs": [],
   "source": [
    "import pandas as pd\n",
    "import numpy as np\n",
    "import json\n",
    "import requests\n",
    "from datetime import datetime"
   ]
  },
  {
   "cell_type": "markdown",
   "id": "b9ac5f38-07a3-4664-9dc1-ed230fe9b1d1",
   "metadata": {},
   "source": [
    "Mock Question 1: Transaction Risk Scoring\n",
    "Prompt:\n",
    "You’re given a list of transactions (like what a fraud model might score). Each transaction has:\n",
    "\n",
    "amount\n",
    "\n",
    "country\n",
    "\n",
    "risk_score (0–100)\n",
    "\n",
    "Write a function flagged_transactions(transactions) that returns a list of transaction IDs that should be flagged if:\n",
    "\n",
    "1) risk_score > 80\n",
    "\n",
    "2) OR amount > 5000 and country != \"US\""
   ]
  },
  {
   "cell_type": "code",
   "execution_count": 18,
   "id": "bfd57463-4dca-4396-b2e7-30810f74fac9",
   "metadata": {},
   "outputs": [],
   "source": [
    "transactions = [\n",
    "    {\"id\": \"tx1\", \"amount\": 1000, \"country\": \"US\", \"risk_score\": 50},\n",
    "    {\"id\": \"tx2\", \"amount\": 6000, \"country\": \"UK\", \"risk_score\": 40},\n",
    "    {\"id\": \"tx3\", \"amount\": 3000, \"country\": \"US\", \"risk_score\": 90}\n",
    "]"
   ]
  },
  {
   "cell_type": "code",
   "execution_count": 20,
   "id": "193bca36-1648-4a52-80b2-d4f8361e2750",
   "metadata": {},
   "outputs": [
    {
     "data": {
      "text/plain": [
       "[{'id': 'tx1', 'amount': 1000, 'country': 'US', 'risk_score': 50},\n",
       " {'id': 'tx2', 'amount': 6000, 'country': 'UK', 'risk_score': 40},\n",
       " {'id': 'tx3', 'amount': 3000, 'country': 'US', 'risk_score': 90}]"
      ]
     },
     "execution_count": 20,
     "metadata": {},
     "output_type": "execute_result"
    }
   ],
   "source": [
    "transactions"
   ]
  },
  {
   "cell_type": "code",
   "execution_count": 22,
   "id": "3727089a-d3c3-415d-98b2-431a86aad423",
   "metadata": {},
   "outputs": [],
   "source": [
    "#Manual Example First"
   ]
  },
  {
   "cell_type": "code",
   "execution_count": 24,
   "id": "357b0ca6-cec7-4ee5-b23d-a6e53652eb2b",
   "metadata": {},
   "outputs": [
    {
     "data": {
      "text/plain": [
       "{'id': 'tx1', 'amount': 1000, 'country': 'US', 'risk_score': 50}"
      ]
     },
     "execution_count": 24,
     "metadata": {},
     "output_type": "execute_result"
    }
   ],
   "source": [
    "transactions[0]"
   ]
  },
  {
   "cell_type": "code",
   "execution_count": 28,
   "id": "048c6955-53e1-42e9-9e15-763870fa1919",
   "metadata": {},
   "outputs": [
    {
     "data": {
      "text/plain": [
       "50"
      ]
     },
     "execution_count": 28,
     "metadata": {},
     "output_type": "execute_result"
    }
   ],
   "source": [
    "transactions[0][\"risk_score\"]"
   ]
  },
  {
   "cell_type": "code",
   "execution_count": 32,
   "id": "0a3f138c-7b60-4e2b-b3f1-ecbe5a6a9e9d",
   "metadata": {},
   "outputs": [
    {
     "data": {
      "text/plain": [
       "['tx2', 'tx3']"
      ]
     },
     "execution_count": 32,
     "metadata": {},
     "output_type": "execute_result"
    }
   ],
   "source": [
    "list_of_flagged_IDs = []\n",
    "\n",
    "for obj in transactions:\n",
    "\n",
    "    #Check if should flagged or not\n",
    "    if (obj[\"risk_score\"] > 80) or (obj[\"amount\"] > 5000 and obj[\"country\"] != \"US\"): \n",
    "        list_of_flagged_IDs.append(obj[\"id\"])\n",
    "\n",
    "list_of_flagged_IDs"
   ]
  },
  {
   "cell_type": "code",
   "execution_count": 36,
   "id": "01d892f2-2916-44b8-922f-27ba1e8bbacb",
   "metadata": {},
   "outputs": [],
   "source": [
    "#Input: JSON response transactions\n",
    "#Output: List of flagged transactions IDs\n",
    "def flagged_transactions(transactions):\n",
    "\n",
    "    list_of_flagged_IDs = []\n",
    "\n",
    "    for obj in transactions:\n",
    "\n",
    "        #Check if should flagged or not\n",
    "        if (obj[\"risk_score\"] > 80) or (obj[\"amount\"] > 5000 and obj[\"country\"] != \"US\"): \n",
    "            list_of_flagged_IDs.append(obj[\"id\"])\n",
    "            \n",
    "            \n",
    "    return list_of_flagged_IDs    "
   ]
  },
  {
   "cell_type": "code",
   "execution_count": 38,
   "id": "3305367c-8a89-4410-ae81-6b4ca841ea0b",
   "metadata": {},
   "outputs": [
    {
     "data": {
      "text/plain": [
       "['tx2', 'tx3']"
      ]
     },
     "execution_count": 38,
     "metadata": {},
     "output_type": "execute_result"
    }
   ],
   "source": [
    "flagged = flagged_transactions(transactions)\n",
    "flagged"
   ]
  },
  {
   "cell_type": "markdown",
   "id": "dd7142b2-b9fb-41e1-8508-8c84bfc7eff0",
   "metadata": {},
   "source": [
    "Mock Question 2: Aggregate Income by Employer\n",
    "Prompt:\n",
    "Given a list of income sources (like Plaid might return), compute the total monthly income per employer.\n",
    "\n",
    "Write a function aggregate_income(sources) that returns a dictionary where:\n",
    "\n",
    "keys = employer name\n",
    "\n",
    "values = total monthly income for that employer"
   ]
  },
  {
   "cell_type": "code",
   "execution_count": 40,
   "id": "889f8c2f-4bcc-4403-9d5c-edbda99241ce",
   "metadata": {},
   "outputs": [],
   "source": [
    "sources = [\n",
    "    {\"employer\": \"Google\", \"monthly_income\": 4000},\n",
    "    {\"employer\": \"Uber\", \"monthly_income\": 1200},\n",
    "    {\"employer\": \"Google\", \"monthly_income\": 1000}\n",
    "]"
   ]
  },
  {
   "cell_type": "code",
   "execution_count": 42,
   "id": "4fdccb70-70df-4d15-903b-561ae540f660",
   "metadata": {},
   "outputs": [
    {
     "data": {
      "text/plain": [
       "[{'employer': 'Google', 'monthly_income': 4000},\n",
       " {'employer': 'Uber', 'monthly_income': 1200},\n",
       " {'employer': 'Google', 'monthly_income': 1000}]"
      ]
     },
     "execution_count": 42,
     "metadata": {},
     "output_type": "execute_result"
    }
   ],
   "source": [
    "sources"
   ]
  },
  {
   "cell_type": "code",
   "execution_count": 48,
   "id": "07cb07d9-d1c6-4dd7-9542-755a7f97ed5d",
   "metadata": {},
   "outputs": [
    {
     "data": {
      "text/html": [
       "<div>\n",
       "<style scoped>\n",
       "    .dataframe tbody tr th:only-of-type {\n",
       "        vertical-align: middle;\n",
       "    }\n",
       "\n",
       "    .dataframe tbody tr th {\n",
       "        vertical-align: top;\n",
       "    }\n",
       "\n",
       "    .dataframe thead th {\n",
       "        text-align: right;\n",
       "    }\n",
       "</style>\n",
       "<table border=\"1\" class=\"dataframe\">\n",
       "  <thead>\n",
       "    <tr style=\"text-align: right;\">\n",
       "      <th></th>\n",
       "      <th>employer</th>\n",
       "      <th>monthly_income</th>\n",
       "    </tr>\n",
       "  </thead>\n",
       "  <tbody>\n",
       "    <tr>\n",
       "      <th>0</th>\n",
       "      <td>Google</td>\n",
       "      <td>4000</td>\n",
       "    </tr>\n",
       "    <tr>\n",
       "      <th>1</th>\n",
       "      <td>Uber</td>\n",
       "      <td>1200</td>\n",
       "    </tr>\n",
       "    <tr>\n",
       "      <th>2</th>\n",
       "      <td>Google</td>\n",
       "      <td>1000</td>\n",
       "    </tr>\n",
       "  </tbody>\n",
       "</table>\n",
       "</div>"
      ],
      "text/plain": [
       "  employer  monthly_income\n",
       "0   Google            4000\n",
       "1     Uber            1200\n",
       "2   Google            1000"
      ]
     },
     "execution_count": 48,
     "metadata": {},
     "output_type": "execute_result"
    }
   ],
   "source": [
    "df = pd.DataFrame(sources)\n",
    "df"
   ]
  },
  {
   "cell_type": "code",
   "execution_count": 52,
   "id": "26a3d013-3f83-4ffa-a33a-881f8beaf4be",
   "metadata": {},
   "outputs": [
    {
     "data": {
      "text/plain": [
       "{'Google': 5000, 'Uber': 1200}"
      ]
     },
     "execution_count": 52,
     "metadata": {},
     "output_type": "execute_result"
    }
   ],
   "source": [
    "out = df.groupby(\"employer\")[\"monthly_income\"].sum()\n",
    "out.to_dict()"
   ]
  },
  {
   "cell_type": "code",
   "execution_count": 54,
   "id": "7e3f44c3-aa52-4833-9c9d-32f687940867",
   "metadata": {},
   "outputs": [],
   "source": [
    "#Input: JSON response sources\n",
    "#Output Dictionary {\"employer_name\":\"total_mo_inc\"}\n",
    "\n",
    "\n",
    "def aggregate_income(sources):\n",
    "\n",
    "    agg_inc_dict = {}\n",
    "    \n",
    "    df = pd.DataFrame(sources) #convery dict to DF\n",
    "    out = df.groupby(\"employer\")[\"monthly_income\"].sum() #groupby employer and sum over monthly_income\n",
    "\n",
    "    agg_inc_dict = out.to_dict()\n",
    "\n",
    "    return agg_inc_dict\n",
    "    "
   ]
  },
  {
   "cell_type": "code",
   "execution_count": 105,
   "id": "d1f4dcd1-acab-4a3e-8273-b480b9c12ff5",
   "metadata": {},
   "outputs": [
    {
     "data": {
      "text/plain": [
       "{'Google': 5000, 'Uber': 1200}"
      ]
     },
     "execution_count": 105,
     "metadata": {},
     "output_type": "execute_result"
    }
   ],
   "source": [
    "aggregate_income(sources)"
   ]
  },
  {
   "cell_type": "code",
   "execution_count": 119,
   "id": "332a0254-6bd1-4cf0-8b81-d3df4ef4cc84",
   "metadata": {},
   "outputs": [
    {
     "data": {
      "text/plain": [
       "{'Google': [4000, 1000], 'Uber': [1200]}"
      ]
     },
     "execution_count": 119,
     "metadata": {},
     "output_type": "execute_result"
    }
   ],
   "source": [
    "test = group_incomes_by_employer(sources)\n",
    "\n",
    "test"
   ]
  },
  {
   "cell_type": "code",
   "execution_count": 117,
   "id": "a6e9aa54-73ba-4e7b-a314-ba56d025ca89",
   "metadata": {},
   "outputs": [],
   "source": [
    "###Another method\n",
    "\n",
    "def group_incomes_by_employer(sources):\n",
    "    groups = {}\n",
    "\n",
    "    for obj in sources:\n",
    "        employer = obj[\"employer\"]\n",
    "        groups.setdefault(employer, []).append(obj[\"monthly_income\"])\n",
    "\n",
    "    return groups"
   ]
  },
  {
   "cell_type": "markdown",
   "id": "2b254737-d679-4d5d-aa67-d0da7c3b07cc",
   "metadata": {},
   "source": [
    "Mock Question 3: Suspicious Login Detection\n",
    "Prompt:\n",
    "You're given a list of login events. Each event contains:\n",
    "\n",
    "user_id\n",
    "\n",
    "timestamp (in \"YYYY-MM-DD HH:MM\" format)\n",
    "\n",
    "ip_address\n",
    "\n",
    "country\n",
    "\n",
    "Write a function flag_suspicious_logins(events) that returns a list of user_ids who:\n",
    "\n",
    "Logged in from 2 or more different countries within the same 24-hour period.\n",
    "\n"
   ]
  },
  {
   "cell_type": "code",
   "execution_count": 61,
   "id": "2dd8ade6-9021-4876-a1dc-d382905cf72e",
   "metadata": {},
   "outputs": [],
   "source": [
    "events = [\n",
    "    {\"user_id\": \"u1\", \"timestamp\": \"2025-07-28 08:00\", \"ip_address\": \"1.1.1.1\", \"country\": \"US\"},\n",
    "    {\"user_id\": \"u2\", \"timestamp\": \"2025-07-28 09:00\", \"ip_address\": \"2.2.2.2\", \"country\": \"US\"},\n",
    "    {\"user_id\": \"u1\", \"timestamp\": \"2025-07-28 15:00\", \"ip_address\": \"3.3.3.3\", \"country\": \"FR\"},\n",
    "    {\"user_id\": \"u3\", \"timestamp\": \"2025-07-29 10:00\", \"ip_address\": \"4.4.4.4\", \"country\": \"US\"}\n",
    "]"
   ]
  },
  {
   "cell_type": "code",
   "execution_count": 65,
   "id": "d39ced7f-0385-4e64-bda9-dca07eb6d3bb",
   "metadata": {},
   "outputs": [
    {
     "data": {
      "text/html": [
       "<div>\n",
       "<style scoped>\n",
       "    .dataframe tbody tr th:only-of-type {\n",
       "        vertical-align: middle;\n",
       "    }\n",
       "\n",
       "    .dataframe tbody tr th {\n",
       "        vertical-align: top;\n",
       "    }\n",
       "\n",
       "    .dataframe thead th {\n",
       "        text-align: right;\n",
       "    }\n",
       "</style>\n",
       "<table border=\"1\" class=\"dataframe\">\n",
       "  <thead>\n",
       "    <tr style=\"text-align: right;\">\n",
       "      <th></th>\n",
       "      <th>user_id</th>\n",
       "      <th>timestamp</th>\n",
       "      <th>ip_address</th>\n",
       "      <th>country</th>\n",
       "    </tr>\n",
       "  </thead>\n",
       "  <tbody>\n",
       "    <tr>\n",
       "      <th>0</th>\n",
       "      <td>u1</td>\n",
       "      <td>2025-07-28 08:00</td>\n",
       "      <td>1.1.1.1</td>\n",
       "      <td>US</td>\n",
       "    </tr>\n",
       "    <tr>\n",
       "      <th>1</th>\n",
       "      <td>u2</td>\n",
       "      <td>2025-07-28 09:00</td>\n",
       "      <td>2.2.2.2</td>\n",
       "      <td>US</td>\n",
       "    </tr>\n",
       "    <tr>\n",
       "      <th>2</th>\n",
       "      <td>u1</td>\n",
       "      <td>2025-07-28 15:00</td>\n",
       "      <td>3.3.3.3</td>\n",
       "      <td>FR</td>\n",
       "    </tr>\n",
       "    <tr>\n",
       "      <th>3</th>\n",
       "      <td>u3</td>\n",
       "      <td>2025-07-29 10:00</td>\n",
       "      <td>4.4.4.4</td>\n",
       "      <td>US</td>\n",
       "    </tr>\n",
       "  </tbody>\n",
       "</table>\n",
       "</div>"
      ],
      "text/plain": [
       "  user_id         timestamp ip_address country\n",
       "0      u1  2025-07-28 08:00    1.1.1.1      US\n",
       "1      u2  2025-07-28 09:00    2.2.2.2      US\n",
       "2      u1  2025-07-28 15:00    3.3.3.3      FR\n",
       "3      u3  2025-07-29 10:00    4.4.4.4      US"
      ]
     },
     "execution_count": 65,
     "metadata": {},
     "output_type": "execute_result"
    }
   ],
   "source": [
    "df = pd.DataFrame(events) #convert dict to DF\n",
    "df"
   ]
  },
  {
   "cell_type": "code",
   "execution_count": 99,
   "id": "d4b87171-7868-4ce2-8fed-f5d8307776ec",
   "metadata": {},
   "outputs": [
    {
     "data": {
      "text/plain": [
       "[[2], [1], [1]]"
      ]
     },
     "execution_count": 99,
     "metadata": {},
     "output_type": "execute_result"
    }
   ],
   "source": [
    "counts = df.groupby(\"user_id\")[\"country\"].nunique()\n",
    "\n",
    "counts_df = pd.DataFrame(counts)\n",
    "\n",
    "df2 = counts_df[(counts_df[\"country\"] >= 1)]\n",
    "df2\n",
    "\n",
    "list_from_df = df2.values.tolist()\n",
    "list_from_df"
   ]
  }
 ],
 "metadata": {
  "kernelspec": {
   "display_name": "Python 3 (ipykernel)",
   "language": "python",
   "name": "python3"
  },
  "language_info": {
   "codemirror_mode": {
    "name": "ipython",
    "version": 3
   },
   "file_extension": ".py",
   "mimetype": "text/x-python",
   "name": "python",
   "nbconvert_exporter": "python",
   "pygments_lexer": "ipython3",
   "version": "3.12.4"
  }
 },
 "nbformat": 4,
 "nbformat_minor": 5
}
