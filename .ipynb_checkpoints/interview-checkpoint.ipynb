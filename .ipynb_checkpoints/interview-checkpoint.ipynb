{
 "cells": [
  {
   "cell_type": "markdown",
   "id": "c2bc81a5-1db1-4a74-b2f6-d60a4b92821b",
   "metadata": {},
   "source": [
    "## Imports"
   ]
  },
  {
   "cell_type": "code",
   "execution_count": 1,
   "id": "382baf6c-27f3-4ccd-abf5-d7bee1348e44",
   "metadata": {},
   "outputs": [],
   "source": [
    "import pandas as pd\n",
    "import numpy as np\n",
    "import json\n",
    "import requests\n",
    "from datetime import datetime\n",
    "import copy"
   ]
  },
  {
   "cell_type": "markdown",
   "id": "470dfbdb-a6f5-4235-90dc-d574f0e94696",
   "metadata": {},
   "source": [
    "Hi Mike,\n",
    "\n",
    "As part of the credit underwriting logic you are pulling a B2B Experian credit report and are extracting a couple of KPIs from it.\n",
    "\n",
    "- [Level 1] Extract the employee_size from the sample data in a function which also works if the value is missing\n",
    "- [Level 2] One of the KPIs you want to use in your logic is the number of total inquiries in the last 6 months. Write a function which can calculate this robustly in production based on the example data provided below. Describe the edge cases which could happen.\n",
    "We would recommend you use a jupyter notebook for this exercise. Feel free to use any tool of your choice which helps you understand the json data better (e.g. VS Code). You will share your entire screen during the live coding challenge and are allowed to use Google for it.\n",
    "\n",
    "Best,\n",
    "Serena"
   ]
  },
  {
   "cell_type": "markdown",
   "id": "cf56fe5b-9849-456b-9db0-268f3f6cecb2",
   "metadata": {},
   "source": [
    "### Level 1"
   ]
  },
  {
   "cell_type": "code",
   "execution_count": 2,
   "id": "de7ee197-384f-4846-8698-2a3de8e857e4",
   "metadata": {},
   "outputs": [],
   "source": [
    "#Load the JSON\n",
    "with open(\"sample_data_thc.json\") as f:\n",
    "    sample_response = json.load(f)"
   ]
  },
  {
   "cell_type": "code",
   "execution_count": 3,
   "id": "83d2bd83-0b00-4f0d-bb55-f1f6c4ea6882",
   "metadata": {},
   "outputs": [
    {
     "data": {
      "text/plain": [
       "8"
      ]
     },
     "execution_count": 3,
     "metadata": {},
     "output_type": "execute_result"
    }
   ],
   "source": [
    "#Make a copy of JSON that doesn't include the employee_size key\n",
    "sample_response2 = copy.deepcopy(sample_response)\n",
    "sample_response2[\"data\"][\"data\"][\"business_facts\"].pop(\"employee_size\", None) #pop to remove employee_size"
   ]
  },
  {
   "cell_type": "code",
   "execution_count": 4,
   "id": "a83980e9-f11e-45d5-b2fd-9d27f0e54a4b",
   "metadata": {},
   "outputs": [
    {
     "data": {
      "text/plain": [
       "8"
      ]
     },
     "execution_count": 4,
     "metadata": {},
     "output_type": "execute_result"
    }
   ],
   "source": [
    "#Try Manually\n",
    "sample_response[\"data\"][\"data\"][\"business_facts\"][\"employee_size\"]"
   ]
  },
  {
   "cell_type": "code",
   "execution_count": 11,
   "id": "77733750-f87a-4431-8450-852883cbcf67",
   "metadata": {},
   "outputs": [],
   "source": [
    "#Input: JSON Response\n",
    "#Output: Employee Size \n",
    "def extract_employee_size(json_response):\n",
    "\n",
    "    #IF employee_size is error, then return \"\", else return json_response\n",
    "    try: \n",
    "        employee_size = json_response[\"data\"][\"data\"][\"business_facts\"][\"employee_size\"]\n",
    "        return employee_size\n",
    "\n",
    "    except (TypeError, KeyError, AttributeError):\n",
    "        return \"\"\n",
    "    "
   ]
  },
  {
   "cell_type": "code",
   "execution_count": null,
   "id": "044cebc5-328c-41fb-92c9-7f9681c69cf7",
   "metadata": {},
   "outputs": [],
   "source": [
    "#Test Case - Employee_Size Exists"
   ]
  },
  {
   "cell_type": "code",
   "execution_count": 13,
   "id": "b81b6d3c-816d-4174-a07c-8b6f8fbd6770",
   "metadata": {},
   "outputs": [
    {
     "data": {
      "text/plain": [
       "8"
      ]
     },
     "execution_count": 13,
     "metadata": {},
     "output_type": "execute_result"
    }
   ],
   "source": [
    "e_size = extract_employee_size(sample_response)\n",
    "e_size"
   ]
  },
  {
   "cell_type": "code",
   "execution_count": 15,
   "id": "c3c4edbb-53d0-4113-b242-79e28cd74b62",
   "metadata": {},
   "outputs": [
    {
     "data": {
      "text/plain": [
       "''"
      ]
     },
     "execution_count": 15,
     "metadata": {},
     "output_type": "execute_result"
    }
   ],
   "source": [
    "#Test Case - Employee_Size Doesn't Exists\n",
    "e_size2 = extract_employee_size(sample_response2)\n",
    "e_size2"
   ]
  },
  {
   "cell_type": "markdown",
   "id": "75779c74-6100-4d7d-981d-243bb999d385",
   "metadata": {},
   "source": [
    "### Level 2"
   ]
  },
  {
   "cell_type": "code",
   "execution_count": 17,
   "id": "69a5023f-9be6-478f-8ccd-106d3fc960c0",
   "metadata": {},
   "outputs": [
    {
     "data": {
      "text/plain": [
       "[{'inquiry_count': [{'year': 2023, 'count': 0, 'month': 7},\n",
       "   {'year': 2023, 'count': 1, 'month': 6},\n",
       "   {'year': 2023, 'count': 0, 'month': 5},\n",
       "   {'year': 2023, 'count': 0, 'month': 4},\n",
       "   {'year': 2023, 'count': 0, 'month': 3},\n",
       "   {'year': 2023, 'count': 0, 'month': 2},\n",
       "   {'year': 2023, 'count': 0, 'month': 1},\n",
       "   {'year': 2022, 'count': 1, 'month': 12},\n",
       "   {'year': 2022, 'count': 0, 'month': 11}],\n",
       "  'inquiry_business_category': 'DISPOSAL'},\n",
       " {'inquiry_count': [{'year': 2023, 'count': 0, 'month': 7},\n",
       "   {'year': 2023, 'count': 0, 'month': 6},\n",
       "   {'year': 2023, 'count': 0, 'month': 5},\n",
       "   {'year': 2023, 'count': 0, 'month': 4},\n",
       "   {'year': 2023, 'count': 1, 'month': 3},\n",
       "   {'year': 2023, 'count': 0, 'month': 2},\n",
       "   {'year': 2023, 'count': 1, 'month': 1},\n",
       "   {'year': 2022, 'count': 0, 'month': 12},\n",
       "   {'year': 2022, 'count': 0, 'month': 11}],\n",
       "  'inquiry_business_category': 'INSURANCE'},\n",
       " {'inquiry_count': [{'year': 2023, 'count': 0, 'month': 7},\n",
       "   {'year': 2023, 'count': 1, 'month': 6},\n",
       "   {'year': 2023, 'count': 0, 'month': 5},\n",
       "   {'year': 2023, 'count': 0, 'month': 4},\n",
       "   {'year': 2023, 'count': 1, 'month': 3},\n",
       "   {'year': 2023, 'count': 0, 'month': 2},\n",
       "   {'year': 2023, 'count': 1, 'month': 1},\n",
       "   {'year': 2022, 'count': 1, 'month': 12},\n",
       "   {'year': 2022, 'count': 0, 'month': 11}],\n",
       "  'inquiry_business_category': 'TOTALS'}]"
      ]
     },
     "execution_count": 17,
     "metadata": {},
     "output_type": "execute_result"
    }
   ],
   "source": [
    "sample_response[\"data\"][\"data\"][\"inquiries\"]"
   ]
  },
  {
   "cell_type": "code",
   "execution_count": 19,
   "id": "de8a1936-e841-46a1-9ac7-4096806a86c6",
   "metadata": {},
   "outputs": [
    {
     "data": {
      "text/plain": [
       "[{'year': 2023, 'count': 0, 'month': 7},\n",
       " {'year': 2023, 'count': 1, 'month': 6},\n",
       " {'year': 2023, 'count': 0, 'month': 5},\n",
       " {'year': 2023, 'count': 0, 'month': 4},\n",
       " {'year': 2023, 'count': 0, 'month': 3},\n",
       " {'year': 2023, 'count': 0, 'month': 2},\n",
       " {'year': 2023, 'count': 0, 'month': 1},\n",
       " {'year': 2022, 'count': 1, 'month': 12},\n",
       " {'year': 2022, 'count': 0, 'month': 11}]"
      ]
     },
     "execution_count": 19,
     "metadata": {},
     "output_type": "execute_result"
    }
   ],
   "source": [
    "temp = sample_response[\"data\"][\"data\"][\"inquiries\"][0][\"inquiry_count\"]\n",
    "temp"
   ]
  },
  {
   "cell_type": "code",
   "execution_count": 21,
   "id": "5477dc94-9e91-4732-bdb3-c495cd810351",
   "metadata": {},
   "outputs": [],
   "source": [
    "#Define function to determine total_inquiries. \n",
    "def total_inquiries(json_response, today_tot_months): #note passing today_tot_months for demo purposes. Can just do a today variable for dynamic purposes\n",
    "\n",
    "    sumcount = 0\n",
    "\n",
    "    for inquiry_cat in json_response[\"data\"][\"data\"][\"inquiries\"]: #Need to go through all the inquiry categories\n",
    "\n",
    "        for obj in inquiry_cat[\"inquiry_count\"]:\n",
    "\n",
    "            if obj[\"year\"]*12 + obj[\"month\"] >= today_tot_months - 6: #check if is in last 6 months, if so add to sumcount\n",
    "                sumcount = sumcount + obj[\"count\"]\n",
    "\n",
    "    return sumcount"
   ]
  },
  {
   "cell_type": "code",
   "execution_count": 23,
   "id": "c76611b0-1ebc-4187-86ad-38564160ab09",
   "metadata": {},
   "outputs": [
    {
     "data": {
      "text/plain": [
       "4"
      ]
     },
     "execution_count": 23,
     "metadata": {},
     "output_type": "execute_result"
    }
   ],
   "source": [
    "#Example Test\n",
    "today_tot_months = 24284 #note we can make this a today() variable to be dynamic but this is for demo purposes\n",
    "\n",
    "total_inquiries(sample_response, today_tot_months)"
   ]
  },
  {
   "cell_type": "markdown",
   "id": "f7adc1fc-ac4b-4929-8012-736cebab9f70",
   "metadata": {},
   "source": [
    "#### Level 2 - Describing Edge Cases"
   ]
  },
  {
   "cell_type": "markdown",
   "id": "a1943dfc-c6e0-4227-9d2c-1052e6a4dcb7",
   "metadata": {},
   "source": [
    "Several edge cases could occur. Here are some Examples:\n",
    "\n",
    "- Missing sections: inquiries absent or not a list; inquiry_count missing; data nested differently than expected.\n",
    "- Empty data: No rows in 6month window.\n",
    "- Invalid month/year: (e.g. month = 13, year=2089)\n",
    "- Duplicate rows: (e.g. two rows with same month and year)\n",
    "- Non-numeric counts: (e.g. \"count\" has unexpected input like \"True\" or something)\n",
    "  "
   ]
  }
 ],
 "metadata": {
  "kernelspec": {
   "display_name": "Python 3 (ipykernel)",
   "language": "python",
   "name": "python3"
  },
  "language_info": {
   "codemirror_mode": {
    "name": "ipython",
    "version": 3
   },
   "file_extension": ".py",
   "mimetype": "text/x-python",
   "name": "python",
   "nbconvert_exporter": "python",
   "pygments_lexer": "ipython3",
   "version": "3.12.4"
  }
 },
 "nbformat": 4,
 "nbformat_minor": 5
}
