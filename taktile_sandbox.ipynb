{
 "cells": [
  {
   "cell_type": "markdown",
   "id": "48113512-8fdc-492a-ac8a-21d2ec1b8889",
   "metadata": {},
   "source": [
    "### About This File"
   ]
  },
  {
   "cell_type": "markdown",
   "id": "3817d991-3ac6-4184-96b1-459f1ba4e72b",
   "metadata": {},
   "source": [
    "This file is to show ...."
   ]
  },
  {
   "cell_type": "markdown",
   "id": "910e7456-33c6-415f-8ca7-a8fe534cfc07",
   "metadata": {},
   "source": [
    "### Imports"
   ]
  },
  {
   "cell_type": "code",
   "execution_count": 2,
   "id": "2561279c-ac9f-436a-be3e-38281aa01a66",
   "metadata": {},
   "outputs": [],
   "source": [
    "import pandas as pd\n",
    "import numpy as np\n",
    "import json\n",
    "import requests\n",
    "from datetime import datetime"
   ]
  },
  {
   "cell_type": "markdown",
   "id": "98184455-3aaa-4b88-97f9-863cad65f7e4",
   "metadata": {},
   "source": [
    "### ① SEON Fraud API"
   ]
  },
  {
   "cell_type": "markdown",
   "id": "ec0b41c2-9acb-46a9-aff8-e1b5d38f86fb",
   "metadata": {},
   "source": [
    "#### SEON Fraud API HTTP Endpoint"
   ]
  },
  {
   "cell_type": "markdown",
   "id": "aadd7859-855b-4e2c-96e4-9bedc8b85b35",
   "metadata": {},
   "source": [
    "POST https://api.seon.io/SeonRestService/fraud-api/v2/"
   ]
  },
  {
   "cell_type": "markdown",
   "id": "27358acd-b5e1-4c43-9295-7f2692746bd0",
   "metadata": {},
   "source": [
    "#### Dummy SEON API Request\n",
    "Main things to note: \n",
    "- I do not have access to a valid API key and this is just a dummy example to show what the request would look like. \n",
    "- It's recommended to populate all user name related fields as much as possible (user_fullname, user_firstname, user_middlename, user_lastname).\n",
    "- I am including the SSN of the applicant in the custom_fields object."
   ]
  },
  {
   "cell_type": "code",
   "execution_count": 3,
   "id": "30fc72a9-e715-47e5-b7ab-d9cdbf23673a",
   "metadata": {},
   "outputs": [
    {
     "name": "stdout",
     "output_type": "stream",
     "text": [
      "{'success': False, 'error': {'code': '2002', 'message': 'invalid license key'}, 'data': {}}\n"
     ]
    }
   ],
   "source": [
    "headers = {\n",
    "    'X-API-KEY': 'xxxxxxxxxxxxx-xxxxxxxxxxxxxxx-xxxxxxxxxxxx'\n",
    "}\n",
    "\n",
    "payload = {\n",
    "  \"config\": {\n",
    "    \"ip\": {\n",
    "      \"include\": \"flags,history,id\",\n",
    "      \"version\": \"v1\"\n",
    "    },\n",
    "    \"email\": {\n",
    "      \"version\": \"v3\"\n",
    "    },\n",
    "    \"phone\": {\n",
    "      \"version\": \"v2\"\n",
    "    },\n",
    "    \"ip_api\": True,\n",
    "    \"email_api\": True,\n",
    "    \"phone_api\": True,\n",
    "    \"device_fingerprinting\": True\n",
    "  },\n",
    "      \"ip\": \"11.22.33.44\",\n",
    "      \"action_type\": \"application\",\n",
    "      \"user_fullname\": \"John M Smith\",\n",
    "      \"user_firstname\": \"John\",\n",
    "      \"user_middlename\": \"M\",\n",
    "      \"user_lastname\": \"Smith\",\n",
    "      \"user_name\": \"John Smith\",\n",
    "      \"user_dob\": \"1990-01-01\",\n",
    "      \"email\": \"john.smith@example.com\",\n",
    "      \"phone_number\": \"+1234567890\",\n",
    "      \"user_street\": \"123 Main St\",\n",
    "      \"user_street2\": \"Apt 4B\",\n",
    "      \"user_zip\": \"10001\",\n",
    "      \"user_city\": \"New York\",\n",
    "      \"user_region\": \"NY\",\n",
    "      \"user_country\": \"US\",\n",
    "      \"billing_street\": \"123 Main St\",\n",
    "      \"billing_street2\": \"Apt 4B\",\n",
    "      \"billing_zip\": \"10001\",\n",
    "      \"billing_city\": \"New York\",\n",
    "      \"billing_region\": \"NY\",\n",
    "      \"billing_country\": \"US\",\n",
    "      \"billing_phone\": \"+1234567890\",\n",
    "      \"custom_fields\": {\n",
    "          \"ssn\": \"123-45-6789\"\n",
    "  }\n",
    "}\n",
    "\n",
    "response = requests.post(\n",
    "    'https://api.seon.io/SeonRestService/fraud-api/v2',\n",
    "    headers=headers,\n",
    "    data=json.dumps(payload)\n",
    ")\n",
    "\n",
    "print(response.json())"
   ]
  },
  {
   "cell_type": "markdown",
   "id": "637c673b-1979-4354-9b8f-3ad6aface306",
   "metadata": {},
   "source": [
    "#### Dummy SEON Fraud API Response (From Website)"
   ]
  },
  {
   "cell_type": "code",
   "execution_count": 6,
   "id": "b9a9e873-56ab-44c6-a294-1f2e8f3f7f3d",
   "metadata": {},
   "outputs": [],
   "source": [
    "# JSON Response is stored in /inputs folder since is a large file and would cloud this screen\n",
    "with open(\"inputs/seon_fraud_response.json\") as f:\n",
    "    seon_response = json.load(f)"
   ]
  },
  {
   "cell_type": "markdown",
   "id": "cc976efe-9e0e-4ff7-840e-a069272fd190",
   "metadata": {},
   "source": [
    "#### SEON Fraud Knock-out Criteria Function \n",
    "**Input:** JSON response from SEON Fraud API (must be a 2xx response in format expected)\n",
    "\n",
    "**Output:** Decision (Decline, Manual Review, Success)\n",
    "\n",
    "**Important Note:** The blackbox_score is a fraud probability score and is intended as a \"second layer of defense\" of risk. Fraud patterns vary across different industries and geographical locations. Depending on NB36's tolerance, blackbox_score Knock-out criteria can be adjusted."
   ]
  },
  {
   "cell_type": "code",
   "execution_count": 8,
   "id": "c3484d80-e961-4805-a628-ba2a2d7f6b9d",
   "metadata": {},
   "outputs": [],
   "source": [
    "def seon_fraud_eval(report):\n",
    "    \n",
    "    fraud_score = report[\"data\"][\"fraud_score\"]\n",
    "    blackbox_score = report[\"data\"][\"blackbox_score\"]\n",
    "    state = report[\"data\"][\"state\"]\n",
    "\n",
    "    if fraud_score < 10 and blackbox_score < 10 and state == \"APPROVE\":\n",
    "        return \"Continue Evaluation\"\n",
    "    elif (10 < fraud_score < 15 or 10 < blackbox_score < 15) and state != \"DECLINE\":\n",
    "        return \"Manual Review Required\"\n",
    "    else:\n",
    "        return \"Decline Applicant\""
   ]
  },
  {
   "cell_type": "markdown",
   "id": "9179490b-65a4-4659-b3f9-b15bf744d61d",
   "metadata": {},
   "source": [
    "#### Test the SEON Fraud KO Function\n"
   ]
  },
  {
   "cell_type": "code",
   "execution_count": 10,
   "id": "5d87d3a7-8fc3-4263-84c6-0efbb4314d4b",
   "metadata": {},
   "outputs": [
    {
     "data": {
      "text/plain": [
       "'Decline Applicant'"
      ]
     },
     "execution_count": 10,
     "metadata": {},
     "output_type": "execute_result"
    }
   ],
   "source": [
    "seon_fraud_eval(seon_response)"
   ]
  },
  {
   "cell_type": "markdown",
   "id": "21572d6e-d96c-4986-9010-1094dca42941",
   "metadata": {},
   "source": [
    "### ② Experian API"
   ]
  },
  {
   "cell_type": "markdown",
   "id": "fcc4b16a-5907-434c-a5e9-f590c0095442",
   "metadata": {},
   "source": [
    "#### Dummy Experian JSON Response (Created from PDF)"
   ]
  },
  {
   "cell_type": "code",
   "execution_count": 12,
   "id": "59d12cda-bd56-4839-a767-9795e3204a8b",
   "metadata": {},
   "outputs": [],
   "source": [
    "dummy_credit_report = {\n",
    "    \"personal_information\": {\n",
    "        \"names\": [\n",
    "            {\"name\": \"JON CONSUMER\", \"name_id\": \"3055\"},\n",
    "            {\"name\": \"JONATHAN CONSUMER\", \"name_id\": \"25152\"},\n",
    "            {\"name\": \"J CONSUMER\", \"name_id\": \"20726\"}\n",
    "        ],\n",
    "        \"addresses\": [\n",
    "            {\n",
    "                \"address\": \"1475 MAIN ST ANYTOWN USA 12345-1475\",\n",
    "                \"address_id\": \"0122937323\",\n",
    "                \"residence_type\": \"Single family\",\n",
    "                \"geographical_code\": \"0-70010-17-2520\"\n",
    "            },\n",
    "            {\n",
    "                \"address\": \"1036 MAIN ST APT143 ANYTOWN USA 12345-3043\",\n",
    "                \"address_id\": \"0122868660\",\n",
    "                \"residence_type\": \"Apartment complex\",\n",
    "                \"geographical_code\": \"0-1020410-17-2520\"\n",
    "            }\n",
    "        ],\n",
    "        \"ssn_variations\": [\"XXX-XX-2538\", \"XXX-XX-1680\"],\n",
    "        \"year_of_birth\": 1991,\n",
    "        \"spouse_or_co_applicant\": \"JANE\",\n",
    "        \"notices\": [\n",
    "            \"Your date of birth indicates that credit may have been established before age 18.\"\n",
    "        ]\n",
    "    },\n",
    "    \"personal_statements\": [\n",
    "        \"FILE FROZEN DUE TO STATE LEGISLATION\"\n",
    "    ],\n",
    "    \"credit_accounts\": {\n",
    "        \"negative_items\": [\n",
    "            {\n",
    "                \"account_name\": \"123 CREDIT CARDS\",\n",
    "                \"account_number\": \"40034424804....\",\n",
    "                \"address\": \"2000 MAIN ST ANYTOWN, USA 12345\",\n",
    "                \"address_id\": \"0122868651\",\n",
    "                \"type\": \"Credit card\",\n",
    "                \"terms\": \"Revolving\",\n",
    "                \"status\": \"Open\",\n",
    "                \"recent_balance\": {\n",
    "                    \"amount\": 273,\n",
    "                    \"as_of\": \"06/03/2015\"\n",
    "                },\n",
    "                \"date_opened\": \"11/2013\",\n",
    "                \"credit_limit\": None,\n",
    "                \"high_balance\": 14219,\n",
    "                \"monthly_payment\": 10,\n",
    "                \"recent_payment_amount\": 0,\n",
    "                \"past_due_amount\": 20,\n",
    "                \"date_of_status\": \"06/2015\",\n",
    "                \"first_reported\": \"12/2013\",\n",
    "                \"responsibility\": \"Individual\",\n",
    "                \"payment_history\": {\n",
    "                    \"2015\": {\n",
    "                        \"May\": \"30 days past due\",\n",
    "                        \"Apr\": \"OK\", \"Mar\": \"OK\", \"Feb\": \"OK\", \"Jan\": \"OK\"\n",
    "                    }\n",
    "                }\n",
    "            }\n",
    "        ],\n",
    "        \"accounts_in_good_standing\": [\n",
    "            {\n",
    "                \"account_name\": \"HOMETOWN AUTO\",\n",
    "                \"recent_balance\": 11616,\n",
    "                \"credit_limit\": 19118,\n",
    "                \"high_balance\": 19118,\n",
    "                \"monthly_payment\": 350,\n",
    "                \"recent_payment_amount\": 350,\n",
    "                \"date_opened\": \"03/2013\",\n",
    "                \"status\": \"Current\"\n",
    "            },\n",
    "            {\n",
    "                \"account_name\": \"AMERICAN APARTMENTS\",\n",
    "                \"recent_balance\": 4000,\n",
    "                \"credit_limit\": 12000,\n",
    "                \"high_balance\": 12000,\n",
    "                \"monthly_payment\": 1000,\n",
    "                \"recent_payment_amount\": 1000,\n",
    "                \"date_opened\": \"10/2014\",\n",
    "                \"status\": \"Inactive/Never late\"\n",
    "            }\n",
    "        ]\n",
    "    }\n",
    "}"
   ]
  },
  {
   "cell_type": "markdown",
   "id": "65f8a662-7e22-41b3-96a1-266e60489024",
   "metadata": {},
   "source": [
    "#### Experian Knock-out Criteria Function \n",
    "**Input:** JSON response from Experian API (must be a 2xx response in format expected)\n",
    "\n",
    "**Output:** Decision (Decline, Manual Review, Success) and Reason"
   ]
  },
  {
   "cell_type": "code",
   "execution_count": 14,
   "id": "d43698f3-979d-4941-980c-da62ba409f4c",
   "metadata": {},
   "outputs": [],
   "source": [
    "def experian_report_eval(report):\n",
    "\n",
    "    #KO Criteria #1: Is Applicant's file frozen?\n",
    "    for statement in report.get(\"personal_statements\"):\n",
    "        if \"FILE FROZEN\" in statement.upper(): #convert all statements to uppercase to avoid case sensitivity \n",
    "            return {\n",
    "                    \"decision\": \"Decline Applicant\",\n",
    "                    \"reason\":   \"Applicants file is frozen\"\n",
    "            }\n",
    "\n",
    "\n",
    "    #KO Criteria #2: Does Applicant have a credit past due balance?\n",
    "    for account in report[\"credit_accounts\"].get(\"negative_items\"):\n",
    "        past_due = account.get(\"past_due_amount\", 0) #get the past due amount of the account\n",
    "        \n",
    "        #2a: If past_due > 10000 it is significant enough to reject applianct immediately\n",
    "        if past_due > 10000:\n",
    "            return {\n",
    "                    \"decision\": \"Decline Applicant\",\n",
    "                    \"reason\":   \"Applicant has a credit account with past due > $10,000\"\n",
    "            }\n",
    "            \n",
    "        #2b: If past_due > 0 (but <10000) then should go through manual review (could be explainable reasons behind this)\n",
    "        elif past_due > 0:\n",
    "            return {\n",
    "                    \"decision\": \"Manual Review Required\",\n",
    "                    \"reason\":   \"Applicant has a credit account with past due > $0, but < $10,000\"\n",
    "            }  \n",
    "\n",
    "    #KO Criteria #3: Does Applicant have <12months of credit history?\n",
    "    dates = []\n",
    "    for statement in report[\"credit_accounts\"].get(\"accounts_in_good_standing\"):\n",
    "        if \"date_opened\" in statement: #retrieve all of the date_opened from the JSON\n",
    "            dates.append(statement[\"date_opened\"])\n",
    "\n",
    "    date_obj = [datetime.strptime(d, \"%m/%Y\") for d in dates] #convert dates into datetime for find min comparison\n",
    "    min_date = min(date_obj) #find the min date for comparison\n",
    "\n",
    "    today = datetime.today() #get todays date\n",
    "\n",
    "    months_active = (today.year - min_date.year)*12 + (today.month - min_date.month) #find num months account active\n",
    "\n",
    "    if months_active < 12: \n",
    "        return {\n",
    "            \"decision\": \"Manual Review Required\",\n",
    "            \"reason\": \"Applicant has <12mo of credit history\"\n",
    "        }\n",
    "\n",
    "\n",
    "    #If pass all KO Criteria:\n",
    "    return {\n",
    "        \"decision\": \"Continue Evaluation\",\n",
    "        \"reason\": \"Passed credit check\"\n",
    "    }\n",
    "    "
   ]
  },
  {
   "cell_type": "markdown",
   "id": "6a2321bd-8e8d-4eba-bbad-c75aeac53c79",
   "metadata": {},
   "source": [
    "#### Test the Experian KO Function"
   ]
  },
  {
   "cell_type": "code",
   "execution_count": 16,
   "id": "d3295e79-2805-4b15-8126-ee50b422357b",
   "metadata": {},
   "outputs": [
    {
     "data": {
      "text/plain": [
       "{'decision': 'Decline Applicant', 'reason': 'Applicants file is frozen'}"
      ]
     },
     "execution_count": 16,
     "metadata": {},
     "output_type": "execute_result"
    }
   ],
   "source": [
    "experian_report_eval(dummy_credit_report)"
   ]
  },
  {
   "cell_type": "markdown",
   "id": "be39b0bf-6822-491e-8b6b-a7f2a25ef3b0",
   "metadata": {},
   "source": [
    "### ③ Plaid API"
   ]
  },
  {
   "cell_type": "markdown",
   "id": "b4a012ee-854b-4f13-b88d-fe02426b2d87",
   "metadata": {},
   "source": [
    "Similar logic as ① and ② can be applied here regarding an API request and applying Knock-out Rules."
   ]
  },
  {
   "cell_type": "markdown",
   "id": "c8dd0ef4-eb15-4066-92f9-5b5501df99ea",
   "metadata": {},
   "source": [
    "### ④ Credit Limit Determination"
   ]
  },
  {
   "cell_type": "markdown",
   "id": "44768e27-58ef-4c8e-a580-670692369ec9",
   "metadata": {},
   "source": [
    "#### Credit Limit Determination Function\n",
    "**Input:** Monthly Income (this would come from Plaid API), Experian Report\n",
    "\n",
    "**Output:** Credit Limit Determination after adjustments. Adjustments are determined from credit_limit_adjustments() function, primarily adjusting the base credit limit based on negative credit indicators. Likely, credit_limit_adjustments() will only be used when manual review occurs, because straight approval would not have these credit issues. "
   ]
  },
  {
   "cell_type": "code",
   "execution_count": 18,
   "id": "fc8ed2ef-91b2-469f-8812-634a4c7de40c",
   "metadata": {},
   "outputs": [],
   "source": [
    "def determine_credit_limit(monthly_income, experian_report):\n",
    "    \"\"\"\n",
    "    Ensure the monthly repayments (assuming a 2% monthly interest rate) do not exceed 40% of their monthly income, \n",
    "    to maintain a manageable debt-to-income ratio.\n",
    "\n",
    "    So,\n",
    "    (0.02)*(credit_limit) <= (0.4)(monthly_income)\n",
    "    \"\"\"\n",
    "    max_dti_ratio = 0.40\n",
    "    monthly_interest_rate = 0.02\n",
    "\n",
    "    # Base Credit Limit\n",
    "    credit_limit = (monthly_income * max_dti_ratio) / monthly_interest_rate\n",
    "\n",
    "    # Apply risk-adjustments from experian credit report\n",
    "    adj_multiplier = credit_limit_adjustments(experian_report)\n",
    "    credit_limit = credit_limit * adj_multiplier\n",
    "    \n",
    "    return round(credit_limit, 2)"
   ]
  },
  {
   "cell_type": "code",
   "execution_count": 22,
   "id": "87bf89ec-6046-448e-b64a-46aa5cead186",
   "metadata": {},
   "outputs": [],
   "source": [
    "#Function returns a multipler (e.g. 0.7 = 30% reduction based on negative credit indicator)\n",
    "def credit_limit_adjustments(experian_report):\n",
    "    \n",
    "    multiplier = 1.0 # Starts with no penalty (1.0 multiplier)\n",
    "    # Check for past-due accounts\n",
    "    for account in experian_report[\"credit_accounts\"].get(\"negative_items\"):\n",
    "        past_due = account.get(\"past_due_amount\", 0) #get the past due amount of the account\n",
    "\n",
    "    # If any past_due account exists, apply 30% reduction to credit limit    \n",
    "    if past_due > 0:\n",
    "        multiplier -= 0.3 # Apply 30% reduction\n",
    "\n",
    "    return multiplier"
   ]
  },
  {
   "cell_type": "markdown",
   "id": "27f88fa0-7ad4-4fd3-ad85-9e110e36498c",
   "metadata": {},
   "source": [
    "#### Test the Credit Limit Determination Function"
   ]
  },
  {
   "cell_type": "code",
   "execution_count": 24,
   "id": "7e41bef7-8ff0-414a-b028-9337a01b8029",
   "metadata": {},
   "outputs": [
    {
     "data": {
      "text/plain": [
       "0.7"
      ]
     },
     "execution_count": 24,
     "metadata": {},
     "output_type": "execute_result"
    }
   ],
   "source": [
    "credit_limit_adjustments(dummy_credit_report)"
   ]
  },
  {
   "cell_type": "code",
   "execution_count": 26,
   "id": "94f75546-a16e-4e8b-a3c5-e5236d8da686",
   "metadata": {},
   "outputs": [
    {
     "data": {
      "text/plain": [
       "70000.0"
      ]
     },
     "execution_count": 26,
     "metadata": {},
     "output_type": "execute_result"
    }
   ],
   "source": [
    "determine_credit_limit(5000,dummy_credit_report)"
   ]
  }
 ],
 "metadata": {
  "kernelspec": {
   "display_name": "Python 3 (ipykernel)",
   "language": "python",
   "name": "python3"
  },
  "language_info": {
   "codemirror_mode": {
    "name": "ipython",
    "version": 3
   },
   "file_extension": ".py",
   "mimetype": "text/x-python",
   "name": "python",
   "nbconvert_exporter": "python",
   "pygments_lexer": "ipython3",
   "version": "3.12.4"
  }
 },
 "nbformat": 4,
 "nbformat_minor": 5
}
