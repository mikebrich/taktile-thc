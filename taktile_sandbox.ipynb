{
 "cells": [
  {
   "cell_type": "markdown",
   "id": "910e7456-33c6-415f-8ca7-a8fe534cfc07",
   "metadata": {},
   "source": [
    "#### Imports"
   ]
  },
  {
   "cell_type": "code",
   "execution_count": 1,
   "id": "2561279c-ac9f-436a-be3e-38281aa01a66",
   "metadata": {},
   "outputs": [],
   "source": [
    "import pandas as pd\n",
    "import numpy as np\n",
    "import json\n",
    "import requests\n",
    "from datetime import datetime #used in Experian Knock-off checks specifically if there is <12mo credit history"
   ]
  },
  {
   "cell_type": "markdown",
   "id": "98184455-3aaa-4b88-97f9-863cad65f7e4",
   "metadata": {
    "jp-MarkdownHeadingCollapsed": true
   },
   "source": [
    "### ① SEON Fraud API"
   ]
  },
  {
   "cell_type": "markdown",
   "id": "21572d6e-d96c-4986-9010-1094dca42941",
   "metadata": {},
   "source": [
    "### ② Experian API"
   ]
  },
  {
   "cell_type": "markdown",
   "id": "a443edea-796a-41de-b974-c61ce48ee09a",
   "metadata": {},
   "source": [
    "#### Dummy Experian HTTP Endpoint"
   ]
  },
  {
   "cell_type": "markdown",
   "id": "57ab608f-dd6b-486a-abbb-eabfae46567c",
   "metadata": {},
   "source": [
    "POST https://api.experian-mock.com/credit-report"
   ]
  },
  {
   "cell_type": "code",
   "execution_count": null,
   "id": "b3cce517-aa3f-4172-9661-be5bd27d9b55",
   "metadata": {},
   "outputs": [],
   "source": [
    "headers = {\n",
    "    'X-API-KEY': 'xxxxxxxxxxxxx-xxxxxxxxxxxxxxx-xxxxxxxxxxxx'\n",
    "}\n",
    "\n",
    "payload = {\n",
    "  \"first_name\": \"Jonathan\",\n",
    "  \"last_name\": \"Consumer\",\n",
    "  \"ssn\": \"XXX-XX-2538\",\n",
    "  \"date_of_birth\": \"1991-05-10\",\n",
    "  \"address\": {\n",
    "    \"street\": \"1475 Main St\",\n",
    "    \"city\": \"Anytown\",\n",
    "    \"state\": \"NY\",\n",
    "    \"zip\": \"12345\"\n",
    "  }\n",
    "}\n",
    "\n",
    "response = requests.post('https://api.experian-mock.com/credit-report', headers=headers,\n",
    "                         data=json.dumps(payload))\n",
    "print(response.json())"
   ]
  },
  {
   "cell_type": "markdown",
   "id": "fcc4b16a-5907-434c-a5e9-f590c0095442",
   "metadata": {},
   "source": [
    "#### Dummy Experian API Response (Created from PDF)"
   ]
  },
  {
   "cell_type": "code",
   "execution_count": 2,
   "id": "59d12cda-bd56-4839-a767-9795e3204a8b",
   "metadata": {},
   "outputs": [],
   "source": [
    "dummy_credit_report = {\n",
    "    \"personal_information\": {\n",
    "        \"names\": [\n",
    "            {\"name\": \"JON CONSUMER\", \"name_id\": \"3055\"},\n",
    "            {\"name\": \"JONATHAN CONSUMER\", \"name_id\": \"25152\"},\n",
    "            {\"name\": \"J CONSUMER\", \"name_id\": \"20726\"}\n",
    "        ],\n",
    "        \"addresses\": [\n",
    "            {\n",
    "                \"address\": \"1475 MAIN ST ANYTOWN USA 12345-1475\",\n",
    "                \"address_id\": \"0122937323\",\n",
    "                \"residence_type\": \"Single family\",\n",
    "                \"geographical_code\": \"0-70010-17-2520\"\n",
    "            },\n",
    "            {\n",
    "                \"address\": \"1036 MAIN ST APT143 ANYTOWN USA 12345-3043\",\n",
    "                \"address_id\": \"0122868660\",\n",
    "                \"residence_type\": \"Apartment complex\",\n",
    "                \"geographical_code\": \"0-1020410-17-2520\"\n",
    "            }\n",
    "        ],\n",
    "        \"ssn_variations\": [\"XXX-XX-2538\", \"XXX-XX-1680\"],\n",
    "        \"year_of_birth\": 1991,\n",
    "        \"spouse_or_co_applicant\": \"JANE\",\n",
    "        \"notices\": [\n",
    "            \"Your date of birth indicates that credit may have been established before age 18.\"\n",
    "        ]\n",
    "    },\n",
    "    \"personal_statements\": [\n",
    "        \"FILE FROZEN DUE TO STATE LEGISLATION\"\n",
    "    ],\n",
    "    \"credit_accounts\": {\n",
    "        \"negative_items\": [\n",
    "            {\n",
    "                \"account_name\": \"123 CREDIT CARDS\",\n",
    "                \"account_number\": \"40034424804....\",\n",
    "                \"address\": \"2000 MAIN ST ANYTOWN, USA 12345\",\n",
    "                \"address_id\": \"0122868651\",\n",
    "                \"type\": \"Credit card\",\n",
    "                \"terms\": \"Revolving\",\n",
    "                \"status\": \"Open\",\n",
    "                \"recent_balance\": {\n",
    "                    \"amount\": 273,\n",
    "                    \"as_of\": \"06/03/2015\"\n",
    "                },\n",
    "                \"date_opened\": \"11/2013\",\n",
    "                \"credit_limit\": None,\n",
    "                \"high_balance\": 14219,\n",
    "                \"monthly_payment\": 10,\n",
    "                \"recent_payment_amount\": 0,\n",
    "                \"past_due_amount\": 20,\n",
    "                \"date_of_status\": \"06/2015\",\n",
    "                \"first_reported\": \"12/2013\",\n",
    "                \"responsibility\": \"Individual\",\n",
    "                \"payment_history\": {\n",
    "                    \"2015\": {\n",
    "                        \"May\": \"30 days past due\",\n",
    "                        \"Apr\": \"OK\", \"Mar\": \"OK\", \"Feb\": \"OK\", \"Jan\": \"OK\"\n",
    "                    }\n",
    "                }\n",
    "            }\n",
    "        ],\n",
    "        \"accounts_in_good_standing\": [\n",
    "            {\n",
    "                \"account_name\": \"HOMETOWN AUTO\",\n",
    "                \"recent_balance\": 11616,\n",
    "                \"credit_limit\": 19118,\n",
    "                \"high_balance\": 19118,\n",
    "                \"monthly_payment\": 350,\n",
    "                \"recent_payment_amount\": 350,\n",
    "                \"date_opened\": \"03/2013\",\n",
    "                \"status\": \"Current\"\n",
    "            },\n",
    "            {\n",
    "                \"account_name\": \"AMERICAN APARTMENTS\",\n",
    "                \"recent_balance\": 4000,\n",
    "                \"credit_limit\": 12000,\n",
    "                \"high_balance\": 12000,\n",
    "                \"monthly_payment\": 1000,\n",
    "                \"recent_payment_amount\": 1000,\n",
    "                \"date_opened\": \"10/2014\",\n",
    "                \"status\": \"Inactive/Never late\"\n",
    "            }\n",
    "        ]\n",
    "    }\n",
    "}"
   ]
  },
  {
   "cell_type": "markdown",
   "id": "65f8a662-7e22-41b3-96a1-266e60489024",
   "metadata": {},
   "source": [
    "### Knock-out Criteria Function \n",
    "**Input:** JSON response from Experian API (must be a 2xx response in format expected);\n",
    "**Output:** Decision (Decline, Manual Review, Success) and Reason"
   ]
  },
  {
   "cell_type": "code",
   "execution_count": 5,
   "id": "d43698f3-979d-4941-980c-da62ba409f4c",
   "metadata": {},
   "outputs": [],
   "source": [
    "def experian_report_eval(report):\n",
    "\n",
    "    #KO Criteria #1: Is Applicants file frozen?\n",
    "    for statement in report.get(\"personal_statements\"):\n",
    "        if \"FILE FROZEN\" in statement.upper(): #convert all statements to uppercase to avoid case sensitivity \n",
    "            return {\n",
    "                    \"decision\": \"Decline\",\n",
    "                    \"reason\":   \"Applicants file is frozen\"\n",
    "            }\n",
    "\n",
    "\n",
    "    #KO Criteria #2: Does Applicant have a credit past due balance?\n",
    "    for account in report[\"credit_accounts\"].get(\"negative_items\"):\n",
    "        past_due = account.get(\"past_due_amount\", 0) #get the past due amount of the account\n",
    "        \n",
    "        #2a: If past_due > 10000 it is significant enough to reject applianct immediately\n",
    "        if past_due > 10000:\n",
    "            return {\n",
    "                    \"decision\": \"Decline\",\n",
    "                    \"reason\":   \"Applicant has a credit account with past due > $10,000\"\n",
    "            }\n",
    "            \n",
    "        #2b: If past_due > 0 (but <10000) then should go through manual review (could be explainable reasons behind this)\n",
    "        elif past_due > 0:\n",
    "            return {\n",
    "                    \"decision\": \"Manual Review\",\n",
    "                    \"reason\":   \"Applicant has a credit account with past due > $0, but < $10,000\"\n",
    "            }  \n",
    "\n",
    "    #KO Criteria #3: Does Applicant have <12months of credit history?\n",
    "\n",
    "\n",
    "    # If no past due accounts found\n",
    "    return {\n",
    "        \"decision\": \"Continue Evaluation\",\n",
    "        \"reason\": \"Passed credit check\"\n",
    "    }\n",
    "    "
   ]
  },
  {
   "cell_type": "code",
   "execution_count": 9,
   "id": "2700a90a-a4b0-48e3-a063-fdb79d2c8d1d",
   "metadata": {},
   "outputs": [
    {
     "data": {
      "text/plain": [
       "{'decision': 'Decline', 'reason': 'Applicants file is frozen'}"
      ]
     },
     "execution_count": 9,
     "metadata": {},
     "output_type": "execute_result"
    }
   ],
   "source": [
    "experian_report_eval(dummy_credit_report)"
   ]
  },
  {
   "cell_type": "markdown",
   "id": "be39b0bf-6822-491e-8b6b-a7f2a25ef3b0",
   "metadata": {},
   "source": [
    "### ③ Plaid API & Credit Determination"
   ]
  },
  {
   "cell_type": "code",
   "execution_count": null,
   "id": "2b1b0be5-507c-417f-8cf9-be1854057c86",
   "metadata": {},
   "outputs": [],
   "source": []
  }
 ],
 "metadata": {
  "kernelspec": {
   "display_name": "Python 3 (ipykernel)",
   "language": "python",
   "name": "python3"
  },
  "language_info": {
   "codemirror_mode": {
    "name": "ipython",
    "version": 3
   },
   "file_extension": ".py",
   "mimetype": "text/x-python",
   "name": "python",
   "nbconvert_exporter": "python",
   "pygments_lexer": "ipython3",
   "version": "3.12.4"
  }
 },
 "nbformat": 4,
 "nbformat_minor": 5
}
